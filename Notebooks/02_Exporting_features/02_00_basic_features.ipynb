{
 "cells": [
  {
   "cell_type": "markdown",
   "metadata": {},
   "source": [
    "# Exporting basic features\n",
    "\n",
    "> As each files takes some time to process, it can prove useful to process them once and then save the extracted features to be used."
   ]
  },
  {
   "cell_type": "markdown",
   "metadata": {},
   "source": [
    "To being with the basic feature extraction we are going to:\n",
    "\n",
    "1. Resample the data.\n",
    "2. Bandpass (0.3, 49) Hz.\n",
    "3. Extract bandpowers.\n",
    "\n",
    "Then we will be saving them in a `.csv` file to ease the experimentation."
   ]
  },
  {
   "cell_type": "code",
   "execution_count": null,
   "metadata": {},
   "outputs": [],
   "source": [
    "#| hide\n",
    "%load_ext autoreload\n",
    "%autoreload 2"
   ]
  },
  {
   "cell_type": "code",
   "execution_count": null,
   "metadata": {},
   "outputs": [],
   "source": [
    "#| hide\n",
    "import warnings\n",
    "warnings.filterwarnings(\"ignore\", category=RuntimeWarning) "
   ]
  },
  {
   "cell_type": "code",
   "execution_count": null,
   "metadata": {},
   "outputs": [],
   "source": [
    "import os\n",
    "from glob import glob\n",
    "\n",
    "import numpy as np\n",
    "import pandas as pd\n",
    "from rich.progress import track\n",
    "\n",
    "import yasa\n",
    "import mne\n",
    "\n",
    "from fastcore.foundation import L\n",
    "\n",
    "from sleepstagingidal.data import *\n",
    "from sleepstagingidal.dataa import *\n",
    "from sleepstagingidal.dataa import swap_dict\n",
    "from sleepstagingidal.feature_extraction import *\n",
    "from sleepstagingidal.feature_extraction import get_trainable_from_patients"
   ]
  },
  {
   "cell_type": "code",
   "execution_count": null,
   "metadata": {},
   "outputs": [],
   "source": [
    "#| hide\n",
    "path_data = \"/media/2tbraid/antonia/PSG/\""
   ]
  },
  {
   "cell_type": "code",
   "execution_count": null,
   "metadata": {},
   "outputs": [],
   "source": [
    "path_files = glob(os.path.join(path_data, \"*.edf\"))"
   ]
  },
  {
   "cell_type": "code",
   "execution_count": null,
   "metadata": {},
   "outputs": [],
   "source": [
    "channels = [\"C3\", \"C4\", \"A1\", \"A2\", \"O1\", \"O2\", \"LOC\", \"ROC\", \"LAT1\", \"LAT2\", \"ECGL\", \"ECGR\", \"CHIN1\", \"CHIN2\"]"
   ]
  },
  {
   "cell_type": "markdown",
   "metadata": {},
   "source": [
    "The first step is going to be loading the different `.edf` files an processing them:"
   ]
  },
  {
   "cell_type": "code",
   "execution_count": null,
   "metadata": {},
   "outputs": [
    {
     "data": {
      "application/vnd.jupyter.widget-view+json": {
       "model_id": "5bad73e512494c95b216b66ce5944ec9",
       "version_major": 2,
       "version_minor": 0
      },
      "text/plain": [
       "Output()"
      ]
     },
     "metadata": {},
     "output_type": "display_data"
    },
    {
     "data": {
      "text/html": [
       "<pre style=\"white-space:pre;overflow-x:auto;line-height:normal;font-family:Menlo,'DejaVu Sans Mono',consolas,'Courier New',monospace\"></pre>\n"
      ],
      "text/plain": []
     },
     "metadata": {},
     "output_type": "display_data"
    },
    {
     "data": {
      "text/html": [
       "<pre style=\"white-space:pre;overflow-x:auto;line-height:normal;font-family:Menlo,'DejaVu Sans Mono',consolas,'Courier New',monospace\">\n",
       "</pre>\n"
      ],
      "text/plain": [
       "\n"
      ]
     },
     "metadata": {},
     "output_type": "display_data"
    }
   ],
   "source": [
    "patients = L([read_clean_edf(path, resample=100, bandpass=(0.3, 49)) for path in track(path_files, description=\"Pre-processing recordings\")])"
   ]
  },
  {
   "cell_type": "markdown",
   "metadata": {},
   "source": [
    "As we want to the extracted features to be as flexible as possible we are going to store each entry with indicating the corresponding patient, so that we can perform different forms of cross-validation with this data without having to recalculate it:"
   ]
  },
  {
   "cell_type": "code",
   "execution_count": null,
   "metadata": {},
   "outputs": [],
   "source": [
    "for i, patient in enumerate(patients):\n",
    "    name = patient.filenames[0].split(\"/\")[-1]\n",
    "    try:\n",
    "        features, labels = get_trainable_from_patients([patient], channels=channels, feature_extraction_fn=calculate_bandpower)\n",
    "    except:\n",
    "        continue\n",
    "    if i == 0:\n",
    "        df_total = pd.DataFrame(features)\n",
    "        df_total[\"Label\"] = labels\n",
    "        df_total[\"Patient\"] = name\n",
    "    else:\n",
    "        df_temp = pd.DataFrame(features)\n",
    "        df_temp[\"Label\"] = labels\n",
    "        df_temp[\"Patient\"] = name\n",
    "        df_total = pd.concat([df_total, df_temp])"
   ]
  },
  {
   "cell_type": "code",
   "execution_count": null,
   "metadata": {},
   "outputs": [
    {
     "data": {
      "text/plain": [
       "(27680, 86)"
      ]
     },
     "execution_count": null,
     "metadata": {},
     "output_type": "execute_result"
    }
   ],
   "source": [
    "df_total.shape"
   ]
  },
  {
   "cell_type": "code",
   "execution_count": null,
   "metadata": {},
   "outputs": [
    {
     "data": {
      "text/html": [
       "<div>\n",
       "<style scoped>\n",
       "    .dataframe tbody tr th:only-of-type {\n",
       "        vertical-align: middle;\n",
       "    }\n",
       "\n",
       "    .dataframe tbody tr th {\n",
       "        vertical-align: top;\n",
       "    }\n",
       "\n",
       "    .dataframe thead th {\n",
       "        text-align: right;\n",
       "    }\n",
       "</style>\n",
       "<table border=\"1\" class=\"dataframe\">\n",
       "  <thead>\n",
       "    <tr style=\"text-align: right;\">\n",
       "      <th></th>\n",
       "      <th>0</th>\n",
       "      <th>1</th>\n",
       "      <th>2</th>\n",
       "      <th>3</th>\n",
       "      <th>4</th>\n",
       "      <th>5</th>\n",
       "      <th>6</th>\n",
       "      <th>7</th>\n",
       "      <th>8</th>\n",
       "      <th>9</th>\n",
       "      <th>...</th>\n",
       "      <th>76</th>\n",
       "      <th>77</th>\n",
       "      <th>78</th>\n",
       "      <th>79</th>\n",
       "      <th>80</th>\n",
       "      <th>81</th>\n",
       "      <th>82</th>\n",
       "      <th>83</th>\n",
       "      <th>Label</th>\n",
       "      <th>Patient</th>\n",
       "    </tr>\n",
       "  </thead>\n",
       "  <tbody>\n",
       "    <tr>\n",
       "      <th>0</th>\n",
       "      <td>0.495066</td>\n",
       "      <td>0.112756</td>\n",
       "      <td>0.112814</td>\n",
       "      <td>0.064382</td>\n",
       "      <td>0.165632</td>\n",
       "      <td>0.049350</td>\n",
       "      <td>0.362000</td>\n",
       "      <td>0.116360</td>\n",
       "      <td>0.171950</td>\n",
       "      <td>0.159524</td>\n",
       "      <td>...</td>\n",
       "      <td>0.064126</td>\n",
       "      <td>0.025867</td>\n",
       "      <td>0.687305</td>\n",
       "      <td>0.084597</td>\n",
       "      <td>0.083275</td>\n",
       "      <td>0.047782</td>\n",
       "      <td>0.070681</td>\n",
       "      <td>0.026361</td>\n",
       "      <td>Sleep stage W</td>\n",
       "      <td>PSG29.edf</td>\n",
       "    </tr>\n",
       "    <tr>\n",
       "      <th>1</th>\n",
       "      <td>0.465074</td>\n",
       "      <td>0.117853</td>\n",
       "      <td>0.177654</td>\n",
       "      <td>0.101286</td>\n",
       "      <td>0.104765</td>\n",
       "      <td>0.033368</td>\n",
       "      <td>0.347451</td>\n",
       "      <td>0.205411</td>\n",
       "      <td>0.208832</td>\n",
       "      <td>0.093656</td>\n",
       "      <td>...</td>\n",
       "      <td>0.050156</td>\n",
       "      <td>0.026275</td>\n",
       "      <td>0.811640</td>\n",
       "      <td>0.054457</td>\n",
       "      <td>0.050954</td>\n",
       "      <td>0.026253</td>\n",
       "      <td>0.037776</td>\n",
       "      <td>0.018920</td>\n",
       "      <td>Sleep stage W</td>\n",
       "      <td>PSG29.edf</td>\n",
       "    </tr>\n",
       "    <tr>\n",
       "      <th>2</th>\n",
       "      <td>0.493321</td>\n",
       "      <td>0.083727</td>\n",
       "      <td>0.160615</td>\n",
       "      <td>0.093394</td>\n",
       "      <td>0.127338</td>\n",
       "      <td>0.041605</td>\n",
       "      <td>0.509627</td>\n",
       "      <td>0.099740</td>\n",
       "      <td>0.174744</td>\n",
       "      <td>0.106081</td>\n",
       "      <td>...</td>\n",
       "      <td>0.057003</td>\n",
       "      <td>0.022188</td>\n",
       "      <td>0.761949</td>\n",
       "      <td>0.065250</td>\n",
       "      <td>0.071764</td>\n",
       "      <td>0.036249</td>\n",
       "      <td>0.047086</td>\n",
       "      <td>0.017702</td>\n",
       "      <td>Sleep stage W</td>\n",
       "      <td>PSG29.edf</td>\n",
       "    </tr>\n",
       "    <tr>\n",
       "      <th>3</th>\n",
       "      <td>0.496456</td>\n",
       "      <td>0.078696</td>\n",
       "      <td>0.145985</td>\n",
       "      <td>0.073315</td>\n",
       "      <td>0.168728</td>\n",
       "      <td>0.036820</td>\n",
       "      <td>0.415612</td>\n",
       "      <td>0.150171</td>\n",
       "      <td>0.162990</td>\n",
       "      <td>0.084801</td>\n",
       "      <td>...</td>\n",
       "      <td>0.102050</td>\n",
       "      <td>0.051728</td>\n",
       "      <td>0.657698</td>\n",
       "      <td>0.107005</td>\n",
       "      <td>0.083062</td>\n",
       "      <td>0.039670</td>\n",
       "      <td>0.079945</td>\n",
       "      <td>0.032621</td>\n",
       "      <td>Sleep stage W</td>\n",
       "      <td>PSG29.edf</td>\n",
       "    </tr>\n",
       "    <tr>\n",
       "      <th>4</th>\n",
       "      <td>0.499096</td>\n",
       "      <td>0.090408</td>\n",
       "      <td>0.128249</td>\n",
       "      <td>0.119394</td>\n",
       "      <td>0.126275</td>\n",
       "      <td>0.036577</td>\n",
       "      <td>0.355009</td>\n",
       "      <td>0.114010</td>\n",
       "      <td>0.227973</td>\n",
       "      <td>0.142860</td>\n",
       "      <td>...</td>\n",
       "      <td>0.064617</td>\n",
       "      <td>0.030325</td>\n",
       "      <td>0.728514</td>\n",
       "      <td>0.062010</td>\n",
       "      <td>0.082649</td>\n",
       "      <td>0.035992</td>\n",
       "      <td>0.059911</td>\n",
       "      <td>0.030924</td>\n",
       "      <td>Sleep stage W</td>\n",
       "      <td>PSG29.edf</td>\n",
       "    </tr>\n",
       "  </tbody>\n",
       "</table>\n",
       "<p>5 rows × 86 columns</p>\n",
       "</div>"
      ],
      "text/plain": [
       "          0         1         2         3         4         5         6  \\\n",
       "0  0.495066  0.112756  0.112814  0.064382  0.165632  0.049350  0.362000   \n",
       "1  0.465074  0.117853  0.177654  0.101286  0.104765  0.033368  0.347451   \n",
       "2  0.493321  0.083727  0.160615  0.093394  0.127338  0.041605  0.509627   \n",
       "3  0.496456  0.078696  0.145985  0.073315  0.168728  0.036820  0.415612   \n",
       "4  0.499096  0.090408  0.128249  0.119394  0.126275  0.036577  0.355009   \n",
       "\n",
       "          7         8         9  ...        76        77        78        79  \\\n",
       "0  0.116360  0.171950  0.159524  ...  0.064126  0.025867  0.687305  0.084597   \n",
       "1  0.205411  0.208832  0.093656  ...  0.050156  0.026275  0.811640  0.054457   \n",
       "2  0.099740  0.174744  0.106081  ...  0.057003  0.022188  0.761949  0.065250   \n",
       "3  0.150171  0.162990  0.084801  ...  0.102050  0.051728  0.657698  0.107005   \n",
       "4  0.114010  0.227973  0.142860  ...  0.064617  0.030325  0.728514  0.062010   \n",
       "\n",
       "         80        81        82        83          Label    Patient  \n",
       "0  0.083275  0.047782  0.070681  0.026361  Sleep stage W  PSG29.edf  \n",
       "1  0.050954  0.026253  0.037776  0.018920  Sleep stage W  PSG29.edf  \n",
       "2  0.071764  0.036249  0.047086  0.017702  Sleep stage W  PSG29.edf  \n",
       "3  0.083062  0.039670  0.079945  0.032621  Sleep stage W  PSG29.edf  \n",
       "4  0.082649  0.035992  0.059911  0.030924  Sleep stage W  PSG29.edf  \n",
       "\n",
       "[5 rows x 86 columns]"
      ]
     },
     "execution_count": null,
     "metadata": {},
     "output_type": "execute_result"
    }
   ],
   "source": [
    "df_total.head()"
   ]
  },
  {
   "cell_type": "code",
   "execution_count": null,
   "metadata": {},
   "outputs": [],
   "source": [
    "df_total.to_csv(\"basic_features.csv\")"
   ]
  }
 ],
 "metadata": {
  "kernelspec": {
   "display_name": "Python 3.8.0 ('sleepstaging')",
   "language": "python",
   "name": "python3"
  }
 },
 "nbformat": 4,
 "nbformat_minor": 2
}
