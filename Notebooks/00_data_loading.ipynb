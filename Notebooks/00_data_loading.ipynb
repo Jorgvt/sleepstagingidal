{
 "cells": [
  {
   "cell_type": "code",
   "execution_count": 1,
   "metadata": {},
   "outputs": [],
   "source": [
    "#| default_exp data"
   ]
  },
  {
   "cell_type": "markdown",
   "metadata": {},
   "source": [
    "# Data loading\n",
    "\n",
    "> Always make sure you can load all your data."
   ]
  },
  {
   "cell_type": "markdown",
   "metadata": {},
   "source": [
    "Stablishing a data-loading pipeline is always a good starting point for starting every project. In this case in particular, we have to be conscious because each `.edf` file we are going to work with is about 1 Gb, so performing lazy loading might become crucial for the project."
   ]
  },
  {
   "cell_type": "code",
   "execution_count": 56,
   "metadata": {},
   "outputs": [],
   "source": [
    "#| exports\n",
    "import os\n",
    "from tqdm.auto import tqdm\n",
    "from glob import glob\n",
    "from collections import Counter\n",
    "from typing import List, Tuple\n",
    "\n",
    "import numpy as np\n",
    "import matplotlib.pyplot as plt\n",
    "import pandas as pd\n",
    "\n",
    "import mne\n",
    "import yasa"
   ]
  },
  {
   "cell_type": "code",
   "execution_count": 3,
   "metadata": {},
   "outputs": [],
   "source": [
    "#| hide\n",
    "path_data = \"/media/2tbraid/antonia/PSG/\""
   ]
  },
  {
   "cell_type": "markdown",
   "metadata": {},
   "source": [
    "## Loading `.edf` files\n",
    "\n",
    "> We will be using `mne.io.read_raw_edf`."
   ]
  },
  {
   "cell_type": "code",
   "execution_count": 4,
   "metadata": {},
   "outputs": [],
   "source": [
    "path_files = glob(os.path.join(path_data, \"*.edf\"))"
   ]
  },
  {
   "cell_type": "code",
   "execution_count": 5,
   "metadata": {},
   "outputs": [
    {
     "name": "stdout",
     "output_type": "stream",
     "text": [
      "Extracting EDF parameters from /media/2tbraid/antonia/PSG/PSG29.edf...\n",
      "EDF file detected\n",
      "Setting channel info structure...\n",
      "Creating raw.info structure...\n"
     ]
    },
    {
     "name": "stderr",
     "output_type": "stream",
     "text": [
      "/tmp/ipykernel_227803/1189779846.py:1: RuntimeWarning: Omitted 200 annotation(s) that were outside data range.\n",
      "  raw = mne.io.read_raw_edf(path_files[0], preload=False)\n",
      "/tmp/ipykernel_227803/1189779846.py:1: RuntimeWarning: Limited 2 annotation(s) that were expanding outside the data range.\n",
      "  raw = mne.io.read_raw_edf(path_files[0], preload=False)\n"
     ]
    },
    {
     "data": {
      "text/html": [
       "<table class=\"table table-hover table-striped table-sm table-responsive small\">\n",
       "    <tr>\n",
       "        <th>Measurement date</th>\n",
       "        \n",
       "        <td>January 01, 2019  22:48:22 GMT</td>\n",
       "        \n",
       "    </tr>\n",
       "    <tr>\n",
       "        <th>Experimenter</th>\n",
       "        \n",
       "        <td>Unknown</td>\n",
       "        \n",
       "    </tr>\n",
       "        <th>Participant</th>\n",
       "        \n",
       "        <td>Unknown</td>\n",
       "        \n",
       "    </tr>\n",
       "    <tr>\n",
       "        <th>Digitized points</th>\n",
       "        \n",
       "        <td>Not available</td>\n",
       "        \n",
       "    </tr>\n",
       "    <tr>\n",
       "        <th>Good channels</th>\n",
       "        <td>50 EEG</td>\n",
       "    </tr>\n",
       "    <tr>\n",
       "        <th>Bad channels</th>\n",
       "        <td>None</td>\n",
       "    </tr>\n",
       "    <tr>\n",
       "        <th>EOG channels</th>\n",
       "        <td>Not available</td>\n",
       "    </tr>\n",
       "    <tr>\n",
       "        <th>ECG channels</th>\n",
       "        <td>Not available</td>\n",
       "    \n",
       "    <tr>\n",
       "        <th>Sampling frequency</th>\n",
       "        <td>512.00 Hz</td>\n",
       "    </tr>\n",
       "    \n",
       "    \n",
       "    <tr>\n",
       "        <th>Highpass</th>\n",
       "        <td>0.00 Hz</td>\n",
       "    </tr>\n",
       "    \n",
       "    \n",
       "    <tr>\n",
       "        <th>Lowpass</th>\n",
       "        <td>256.00 Hz</td>\n",
       "    </tr>\n",
       "    \n",
       "    \n",
       "    \n",
       "    <tr>\n",
       "        <th>Filenames</th>\n",
       "        <td>PSG29.edf</td>\n",
       "    </tr>\n",
       "    \n",
       "    <tr>\n",
       "        <th>Duration</th>\n",
       "        <td>06:37:04 (HH:MM:SS)</td>\n",
       "    </tr>\n",
       "</table>"
      ],
      "text/plain": [
       "<RawEDF | PSG29.edf, 50 x 12198400 (23825.0 s), ~52 kB, data not loaded>"
      ]
     },
     "execution_count": 5,
     "metadata": {},
     "output_type": "execute_result"
    }
   ],
   "source": [
    "raw = mne.io.read_raw_edf(path_files[0], preload=False)\n",
    "raw"
   ]
  },
  {
   "cell_type": "markdown",
   "metadata": {},
   "source": [
    "Now that we've loaded the file, we can downsample it to 100Hz and apply a low-pass filter to the signal:"
   ]
  },
  {
   "cell_type": "code",
   "execution_count": 6,
   "metadata": {},
   "outputs": [
    {
     "name": "stdout",
     "output_type": "stream",
     "text": [
      "Filtering raw data in 1 contiguous segment\n",
      "Setting up band-pass filter from 0.3 - 49 Hz\n",
      "\n",
      "FIR filter parameters\n",
      "---------------------\n",
      "Designing a one-pass, zero-phase, non-causal bandpass filter:\n",
      "- Windowed time-domain design (firwin) method\n",
      "- Hamming window with 0.0194 passband ripple and 53 dB stopband attenuation\n",
      "- Lower passband edge: 0.30\n",
      "- Lower transition bandwidth: 0.30 Hz (-6 dB cutoff frequency: 0.15 Hz)\n",
      "- Upper passband edge: 49.00 Hz\n",
      "- Upper transition bandwidth: 1.00 Hz (-6 dB cutoff frequency: 49.50 Hz)\n",
      "- Filter length: 1101 samples (11.010 sec)\n",
      "\n"
     ]
    },
    {
     "name": "stderr",
     "output_type": "stream",
     "text": [
      "[Parallel(n_jobs=1)]: Using backend SequentialBackend with 1 concurrent workers.\n",
      "[Parallel(n_jobs=1)]: Done   1 out of   1 | elapsed:    0.1s remaining:    0.0s\n",
      "[Parallel(n_jobs=1)]: Done   2 out of   2 | elapsed:    0.2s remaining:    0.0s\n",
      "[Parallel(n_jobs=1)]: Done   3 out of   3 | elapsed:    0.3s remaining:    0.0s\n",
      "[Parallel(n_jobs=1)]: Done   4 out of   4 | elapsed:    0.4s remaining:    0.0s\n",
      "[Parallel(n_jobs=1)]: Done  50 out of  50 | elapsed:    4.5s finished\n"
     ]
    },
    {
     "data": {
      "text/html": [
       "<table class=\"table table-hover table-striped table-sm table-responsive small\">\n",
       "    <tr>\n",
       "        <th>Measurement date</th>\n",
       "        \n",
       "        <td>January 01, 2019  22:48:22 GMT</td>\n",
       "        \n",
       "    </tr>\n",
       "    <tr>\n",
       "        <th>Experimenter</th>\n",
       "        \n",
       "        <td>Unknown</td>\n",
       "        \n",
       "    </tr>\n",
       "        <th>Participant</th>\n",
       "        \n",
       "        <td>Unknown</td>\n",
       "        \n",
       "    </tr>\n",
       "    <tr>\n",
       "        <th>Digitized points</th>\n",
       "        \n",
       "        <td>Not available</td>\n",
       "        \n",
       "    </tr>\n",
       "    <tr>\n",
       "        <th>Good channels</th>\n",
       "        <td>50 EEG</td>\n",
       "    </tr>\n",
       "    <tr>\n",
       "        <th>Bad channels</th>\n",
       "        <td>None</td>\n",
       "    </tr>\n",
       "    <tr>\n",
       "        <th>EOG channels</th>\n",
       "        <td>Not available</td>\n",
       "    </tr>\n",
       "    <tr>\n",
       "        <th>ECG channels</th>\n",
       "        <td>Not available</td>\n",
       "    \n",
       "    <tr>\n",
       "        <th>Sampling frequency</th>\n",
       "        <td>100.00 Hz</td>\n",
       "    </tr>\n",
       "    \n",
       "    \n",
       "    <tr>\n",
       "        <th>Highpass</th>\n",
       "        <td>0.30 Hz</td>\n",
       "    </tr>\n",
       "    \n",
       "    \n",
       "    <tr>\n",
       "        <th>Lowpass</th>\n",
       "        <td>49.00 Hz</td>\n",
       "    </tr>\n",
       "    \n",
       "    \n",
       "    \n",
       "    <tr>\n",
       "        <th>Filenames</th>\n",
       "        <td>PSG29.edf</td>\n",
       "    </tr>\n",
       "    \n",
       "    <tr>\n",
       "        <th>Duration</th>\n",
       "        <td>06:37:04 (HH:MM:SS)</td>\n",
       "    </tr>\n",
       "</table>"
      ],
      "text/plain": [
       "<RawEDF | PSG29.edf, 50 x 2382500 (23825.0 s), ~908.9 MB, data loaded>"
      ]
     },
     "execution_count": 6,
     "metadata": {},
     "output_type": "execute_result"
    }
   ],
   "source": [
    "# Downsample the data to 100 Hz\n",
    "raw.resample(100)\n",
    "# Apply a bandpass filter from 0.3 to 49 Hz\n",
    "raw.filter(0.3, 49)"
   ]
  },
  {
   "cell_type": "markdown",
   "metadata": {},
   "source": [
    "The different channels of the signal are available in the attribute `.ch_names`:"
   ]
  },
  {
   "cell_type": "code",
   "execution_count": 9,
   "metadata": {},
   "outputs": [
    {
     "name": "stdout",
     "output_type": "stream",
     "text": [
      "50\n"
     ]
    },
    {
     "data": {
      "text/plain": [
       "['C3',\n",
       " 'C4',\n",
       " 'O1',\n",
       " 'O2',\n",
       " 'A1',\n",
       " 'A2',\n",
       " 'Cz',\n",
       " 'F3',\n",
       " 'F4',\n",
       " 'F7',\n",
       " 'F8',\n",
       " 'Fz',\n",
       " 'Fp1',\n",
       " 'Fp2',\n",
       " 'Fpz',\n",
       " 'P3',\n",
       " 'P4',\n",
       " 'Pz',\n",
       " 'T3',\n",
       " 'T4',\n",
       " 'T5',\n",
       " 'T6',\n",
       " 'LOC',\n",
       " 'ROC',\n",
       " 'CHIN1',\n",
       " 'CHIN2',\n",
       " 'ECGL',\n",
       " 'ECGR',\n",
       " 'LAT1',\n",
       " 'LAT2',\n",
       " 'RAT1',\n",
       " 'RAT2',\n",
       " 'CHEST',\n",
       " 'ABD',\n",
       " 'FLOW',\n",
       " 'SNORE',\n",
       " 'DIF5',\n",
       " 'DIF6',\n",
       " 'POS',\n",
       " 'DC2',\n",
       " 'DC3',\n",
       " 'DC4',\n",
       " 'DC5',\n",
       " 'DC6',\n",
       " 'DC7',\n",
       " 'DC8',\n",
       " 'DC9',\n",
       " 'DC10',\n",
       " 'OSAT',\n",
       " 'PR']"
      ]
     },
     "execution_count": 9,
     "metadata": {},
     "output_type": "execute_result"
    }
   ],
   "source": [
    "print(len(raw.ch_names))\n",
    "raw.ch_names"
   ]
  },
  {
   "cell_type": "markdown",
   "metadata": {},
   "source": [
    "We can extract a subset of the channels by using the methods `.pick_channels()` and `.drop_channels()`:"
   ]
  },
  {
   "cell_type": "code",
   "execution_count": 10,
   "metadata": {},
   "outputs": [],
   "source": [
    "# Select a subset of EEG channels\n",
    "# raw.pick_channels(['LOC-A2', 'ROC-A1', 'F3-A2', 'C3-A2', 'O1-A2', 'F4-A1', 'C4-A1', 'O2-A1', 'X1', 'X2', 'X3'])"
   ]
  },
  {
   "cell_type": "markdown",
   "metadata": {},
   "source": [
    "## Making use of the annotations in the recordings\n",
    "\n",
    "One of the peculiarities of this kind of data is they include medical annotations. We can access them in the atribute `.annotations`:"
   ]
  },
  {
   "cell_type": "code",
   "execution_count": 16,
   "metadata": {},
   "outputs": [
    {
     "data": {
      "text/plain": [
       "<Annotations | 2057 segments: Central Apnea (6), EEG arousal (131), ...>"
      ]
     },
     "execution_count": 16,
     "metadata": {},
     "output_type": "execute_result"
    }
   ],
   "source": [
    "raw.annotations"
   ]
  },
  {
   "cell_type": "markdown",
   "metadata": {},
   "source": [
    "We can index this object to view more information:"
   ]
  },
  {
   "cell_type": "code",
   "execution_count": 17,
   "metadata": {},
   "outputs": [
    {
     "data": {
      "text/plain": [
       "OrderedDict([('onset', 3420.0),\n",
       "             ('duration', 30.0),\n",
       "             ('description', 'Sleep stage W'),\n",
       "             ('orig_time',\n",
       "              datetime.datetime(2019, 1, 1, 22, 48, 22, tzinfo=datetime.timezone.utc))])"
      ]
     },
     "execution_count": 17,
     "metadata": {},
     "output_type": "execute_result"
    }
   ],
   "source": [
    "raw.annotations[80]"
   ]
  },
  {
   "cell_type": "markdown",
   "metadata": {},
   "source": [
    "As we can see, they include all the information needed to split the signal into *epochs*:\n",
    "\n",
    "- `onset`: starting time of an epoch.\n",
    "- `duration`: duration of the epoch.\n",
    "- `description`: label set by the medical staff.\n",
    "- `orig_time`: date when the data was collected."
   ]
  },
  {
   "cell_type": "markdown",
   "metadata": {},
   "source": [
    "We can use a `Counter` to count the different labels available in the data:"
   ]
  },
  {
   "cell_type": "code",
   "execution_count": 32,
   "metadata": {},
   "outputs": [
    {
     "data": {
      "text/plain": [
       "Counter({'Montage:PR, Ref': 2,\n",
       "         'Start Recording': 1,\n",
       "         'Recording Analyzer - Sleep Events': 1,\n",
       "         'Recording Analyzer - Auto-Staging': 1,\n",
       "         'Recording Analyzer - ECG': 1,\n",
       "         'Recording Analyzer - Data Trends': 1,\n",
       "         'Video Recording ON': 1,\n",
       "         'Impedance at 10 kOhm': 1,\n",
       "         'Obstructive Apnea': 200,\n",
       "         'Patient Event': 2,\n",
       "         'Sleep stage W': 367,\n",
       "         'Lights Off': 1,\n",
       "         'Started Analyzer - Sleep Events': 1,\n",
       "         'Gain/Filter Change': 2,\n",
       "         'Oxygen Desaturation': 341,\n",
       "         'Oximeter Event': 272,\n",
       "         'Limb Movement': 109,\n",
       "         'Sleep stage N1': 29,\n",
       "         'EEG arousal': 131,\n",
       "         'Snoring': 251,\n",
       "         'Sleep stage N2': 323,\n",
       "         'Talking': 8,\n",
       "         'ORINANDO': 2,\n",
       "         'Hypopnea': 3,\n",
       "         'Central Apnea': 6})"
      ]
     },
     "execution_count": 32,
     "metadata": {},
     "output_type": "execute_result"
    }
   ],
   "source": [
    "cntr = Counter(raw.annotations.description)\n",
    "cntr"
   ]
  },
  {
   "cell_type": "code",
   "execution_count": 44,
   "metadata": {},
   "outputs": [
    {
     "data": {
      "image/png": "[encoded data removed]",
      "text/plain": [
       "<Figure size 640x480 with 1 Axes>"
      ]
     },
     "metadata": {},
     "output_type": "display_data"
    }
   ],
   "source": [
    "plt.figure()\n",
    "plt.bar(cntr.keys(), cntr.values())\n",
    "plt.xticks(rotation=90)\n",
    "plt.xlabel(\"Annotation\")\n",
    "plt.ylabel(\"Counts\")\n",
    "plt.title(\"Count of each annotation\")\n",
    "plt.show()"
   ]
  },
  {
   "cell_type": "markdown",
   "metadata": {},
   "source": [
    "As we can see, there are a lot of epochs marked with labels we don't care about. Later on we will see how we can filter the epochs to keep only the ones we care about."
   ]
  },
  {
   "cell_type": "markdown",
   "metadata": {},
   "source": [
    "## Extracting epochs from the full recordings\n",
    "\n",
    "To be able to use the data, we need to extract 30s epochs from the full recordings. We can do that easily with the function `mne.make_fixed_length_epochs()`, but we can make use of the included annotations and use `mne.events_from_annotations()` and `mne.Epochs` to directly obtain the epochs paired with their associated label. \n",
    "\n",
    "> `mne.events_from_annotations()` allows us to filter by regexp, so we will be able to keep only the epochs corresponding to the labels we care about."
   ]
  },
  {
   "cell_type": "code",
   "execution_count": 62,
   "metadata": {},
   "outputs": [],
   "source": [
    "#| export\n",
    "def get_epochs(data: mne.io.edf.edf.RawEDF, # Raw file loaded with `mne.io.read_raw_edf`.\n",
    "               channels: List[str]=None, # List of channels to keep. If None all the channels are kept.\n",
    "               ) -> Tuple[mne.epochs.Epochs, float]: # Epochs object and samplign rate of the signal.\n",
    "    \"\"\"Extracts labelled epochs from an already loaded raw edf file.\"\"\"\n",
    "    sampling_rate = data.info['sfreq']\n",
    "    events, events_id = mne.events_from_annotations(data, regexp='Sleep stage [A-Z]\\d*')\n",
    "\n",
    "    tmax = 30. - 1. / sampling_rate  # tmax is included\n",
    "    epochs = mne.Epochs(raw=data, \n",
    "                        events=events,\n",
    "                        event_id=events_id,\n",
    "                        tmin=0., \n",
    "                        tmax=tmax, \n",
    "                        baseline=None, \n",
    "                        event_repeated='merge',\n",
    "                        picks=channels)\n",
    "\n",
    "    epochs.drop_bad()\n",
    "    return epochs, sampling_rate"
   ]
  },
  {
   "cell_type": "code",
   "execution_count": 48,
   "metadata": {},
   "outputs": [
    {
     "name": "stdout",
     "output_type": "stream",
     "text": [
      "Used Annotations descriptions: ['Sleep stage N1', 'Sleep stage N2', 'Sleep stage W']\n",
      "Not setting metadata\n",
      "719 matching events found\n",
      "No baseline correction applied\n",
      "0 projection items activated\n",
      "Using data from preloaded Raw for 719 events and 3000 original time points ...\n",
      "1 bad epochs dropped\n"
     ]
    }
   ],
   "source": [
    "epochs, sr = get_epochs(raw)"
   ]
  },
  {
   "cell_type": "markdown",
   "metadata": {},
   "source": [
    "When this objects are created without `preloading=True`, we need to use the method `.get_data()` to access the data. As this kind of data uses a lot of memmory, the data of each epoch only are loaded when this method is called.  We can check the shape of an epoch:"
   ]
  },
  {
   "cell_type": "code",
   "execution_count": 58,
   "metadata": {},
   "outputs": [
    {
     "name": "stdout",
     "output_type": "stream",
     "text": [
      "Using data from preloaded Raw for 1 events and 3000 original time points ...\n"
     ]
    },
    {
     "data": {
      "text/plain": [
       "(1, 50, 3000)"
      ]
     },
     "execution_count": 58,
     "metadata": {},
     "output_type": "execute_result"
    }
   ],
   "source": [
    "epochs[0].get_data().shape"
   ]
  },
  {
   "cell_type": "markdown",
   "metadata": {},
   "source": [
    "The dimmensions of an epoch are: `(1, Number of channels, Data points per channel)`.\n",
    "\n",
    "> Actually, the first dimmension corresponds to the number of epochs loaded, but we only loaded one epoch."
   ]
  },
  {
   "cell_type": "markdown",
   "metadata": {},
   "source": [
    "Lastly, this object stores two important atributes:\n",
    "\n",
    "- `.events`: contains the parsed labels in the last dimension.\n",
    "- `.event_id`: dictionary mapping the parsed labels to the original labels."
   ]
  },
  {
   "cell_type": "code",
   "execution_count": 59,
   "metadata": {},
   "outputs": [
    {
     "data": {
      "text/plain": [
       "array([[ 228000,       0,       3],\n",
       "       [ 231000,       0,       3],\n",
       "       [ 234000,       0,       3],\n",
       "       ...,\n",
       "       [2373000,       0,       3],\n",
       "       [2376000,       0,       3],\n",
       "       [2379000,       0,       3]])"
      ]
     },
     "execution_count": 59,
     "metadata": {},
     "output_type": "execute_result"
    }
   ],
   "source": [
    "epochs.events"
   ]
  },
  {
   "cell_type": "code",
   "execution_count": 60,
   "metadata": {},
   "outputs": [
    {
     "data": {
      "text/plain": [
       "{'Sleep stage N1': 1, 'Sleep stage N2': 2, 'Sleep stage W': 3}"
      ]
     },
     "execution_count": 60,
     "metadata": {},
     "output_type": "execute_result"
    }
   ],
   "source": [
    "epochs.event_id"
   ]
  },
  {
   "cell_type": "markdown",
   "metadata": {},
   "source": [
    "Comes to our attention that this patient has only been annotated with 3 out of 5 of the possible sleep stages. This might be important to look at to differentiate from full labeled patients and the rest."
   ]
  },
  {
   "cell_type": "markdown",
   "metadata": {},
   "source": [
    "## Inter-channel operations\n",
    "\n",
    "Real practitioners don't actually use the data as we have imported it. They only utilize 9 channels, and perform reference operations between them. We can now reload the data using only this channels to save memory and perform the reference operations:"
   ]
  },
  {
   "cell_type": "code",
   "execution_count": 63,
   "metadata": {},
   "outputs": [],
   "source": [
    "channels = [\"C3\", \"C4\", \"A1\", \"A2\", \"O1\", \"O2\", \"LOC\", \"ROC\", \"LAT1\", \"LAT2\", \"ECGL\", \"ECGR\", \"CHIN1\", \"CHIN2\"]"
   ]
  },
  {
   "cell_type": "code",
   "execution_count": 64,
   "metadata": {},
   "outputs": [
    {
     "name": "stdout",
     "output_type": "stream",
     "text": [
      "Used Annotations descriptions: ['Sleep stage N1', 'Sleep stage N2', 'Sleep stage W']\n",
      "Not setting metadata\n",
      "719 matching events found\n",
      "No baseline correction applied\n",
      "0 projection items activated\n",
      "Using data from preloaded Raw for 719 events and 3000 original time points ...\n",
      "1 bad epochs dropped\n"
     ]
    }
   ],
   "source": [
    "epochs, sr = get_epochs(raw, channels=channels)"
   ]
  },
  {
   "cell_type": "markdown",
   "metadata": {},
   "source": [
    "The reference operations they use are:\n",
    "\n",
    "$$ C3 - \\frac{A1+A2}{2} $$\n",
    "$$ C4 - \\frac{A1+A2}{2} $$\n",
    "$$ 01 - \\frac{A1+A2}{2} $$\n",
    "$$ 02 - \\frac{A1+A2}{2} $$\n",
    "$$ LOC - A2 $$\n",
    "$$ ROC - A1 $$\n",
    "$$ LAT1 - LAT2 $$\n",
    "$$ ECGL - ECGR $$\n",
    "$$ CHIN1 - CHIN2 $$"
   ]
  },
  {
   "cell_type": "markdown",
   "metadata": {},
   "source": [
    "In order to mantain the code clean, we can put our data into a dictionary and then perform the operations. But fist we will load all the data in memory:"
   ]
  },
  {
   "cell_type": "code",
   "execution_count": 65,
   "metadata": {},
   "outputs": [
    {
     "name": "stdout",
     "output_type": "stream",
     "text": [
      "Using data from preloaded Raw for 718 events and 3000 original time points ...\n"
     ]
    },
    {
     "data": {
      "text/plain": [
       "((718, 14, 3000), (718,))"
      ]
     },
     "execution_count": 65,
     "metadata": {},
     "output_type": "execute_result"
    }
   ],
   "source": [
    "X = epochs.get_data()\n",
    "Y = epochs.events[:,-1]\n",
    "X.shape, Y.shape"
   ]
  },
  {
   "cell_type": "code",
   "execution_count": 66,
   "metadata": {},
   "outputs": [],
   "source": [
    "# We need to expand_dims to keep the channels dim\n",
    "data = {ch:np.expand_dims(X[:,i,:],1) for i, ch in enumerate(channels)}"
   ]
  },
  {
   "cell_type": "code",
   "execution_count": 67,
   "metadata": {},
   "outputs": [],
   "source": [
    "channel1 = data[\"C3\"] - (data[\"A1\"]+data[\"A2\"])/2\n",
    "channel2 = data[\"C4\"] - (data[\"A1\"]+data[\"A2\"])/2\n",
    "channel3 = data[\"O1\"] - (data[\"A1\"]+data[\"A2\"])/2\n",
    "channel4 = data[\"O2\"] - (data[\"A1\"]+data[\"A2\"])/2\n",
    "channel5 = data[\"LOC\"] - data[\"A2\"]\n",
    "channel6 = data[\"ROC\"] - data[\"A1\"]\n",
    "channel7 = data[\"LAT1\"] - data[\"LAT2\"]\n",
    "channel8 = data[\"ECGL\"] - data[\"ECGR\"]\n",
    "channel9 = data[\"CHIN1\"] - data[\"CHIN2\"]"
   ]
  },
  {
   "cell_type": "markdown",
   "metadata": {},
   "source": [
    "Now we can concatenate the new channels into a new array:"
   ]
  },
  {
   "cell_type": "code",
   "execution_count": 68,
   "metadata": {},
   "outputs": [
    {
     "data": {
      "text/plain": [
       "(718, 9, 3000)"
      ]
     },
     "execution_count": 68,
     "metadata": {},
     "output_type": "execute_result"
    }
   ],
   "source": [
    "X = np.concatenate([channel1, channel2, channel3, channel4, channel5, channel6, channel7, channel8, channel9],1)\n",
    "X.shape"
   ]
  }
 ],
 "metadata": {
  "kernelspec": {
   "display_name": "Python 3.8.0 ('sleepstaging')",
   "language": "python",
   "name": "python3"
  },
  "language_info": {
   "codemirror_mode": {
    "name": "ipython",
    "version": 3
   },
   "file_extension": ".py",
   "mimetype": "text/x-python",
   "name": "python",
   "nbconvert_exporter": "python",
   "pygments_lexer": "ipython3",
   "version": "3.8.0"
  },
  "orig_nbformat": 4,
  "vscode": {
   "interpreter": {
    "hash": "b309a2501b13f45365e4cace7c2354b674b0953cc39e84ede671dae126831ae0"
   }
  }
 },
 "nbformat": 4,
 "nbformat_minor": 2
}
