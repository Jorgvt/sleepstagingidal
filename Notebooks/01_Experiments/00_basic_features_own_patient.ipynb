{
 "cells": [
  {
   "cell_type": "markdown",
   "metadata": {},
   "source": [
    "# Using basic features within the same patient\n",
    "\n",
    "> In this notebook we will be using a very simple feature extraction and then train a very simple classifier within the same patient (we take data from one recording and split it in a train/test split) to assess the differences that may arise between patients. We expect to see that almost all of the patients behave similarly, but we could be surprised."
   ]
  },
  {
   "cell_type": "code",
   "execution_count": null,
   "metadata": {},
   "outputs": [],
   "source": [
    "#| hide\n",
    "%load_ext autoreload\n",
    "%autoreload 2"
   ]
  },
  {
   "cell_type": "code",
   "execution_count": null,
   "metadata": {},
   "outputs": [],
   "source": [
    "#| hide\n",
    "import warnings\n",
    "warnings.filterwarnings(\"ignore\", category=RuntimeWarning) "
   ]
  },
  {
   "cell_type": "code",
   "execution_count": null,
   "metadata": {},
   "outputs": [],
   "source": [
    "#| hide\n",
    "from nbdev.showdoc import *"
   ]
  },
  {
   "cell_type": "code",
   "execution_count": null,
   "metadata": {},
   "outputs": [],
   "source": [
    "import os\n",
    "from glob import glob\n",
    "from collections import Counter\n",
    "from typing import List, Dict\n",
    "\n",
    "from rich.progress import track\n",
    "import numpy as np\n",
    "import matplotlib.pyplot as plt\n",
    "import pandas as pd\n",
    "import mne\n",
    "import yasa\n",
    "\n",
    "from sklearn.model_selection import train_test_split, cross_validate\n",
    "from sklearn.ensemble import RandomForestClassifier\n",
    "\n",
    "from sleepstagingidal.data import *\n",
    "from sleepstagingidal.dataa import *\n",
    "from sleepstagingidal.feature_extraction import *"
   ]
  },
  {
   "cell_type": "code",
   "execution_count": null,
   "metadata": {},
   "outputs": [],
   "source": [
    "#| hide\n",
    "path_data = \"/media/2tbraid/antonia/PSG/\""
   ]
  },
  {
   "cell_type": "code",
   "execution_count": null,
   "metadata": {},
   "outputs": [],
   "source": [
    "path_files = glob(os.path.join(path_data, \"*.edf\"))"
   ]
  },
  {
   "cell_type": "code",
   "execution_count": null,
   "metadata": {},
   "outputs": [],
   "source": [
    "channels = [\"C3\", \"C4\", \"A1\", \"A2\", \"O1\", \"O2\", \"LOC\", \"ROC\", \"LAT1\", \"LAT2\", \"ECGL\", \"ECGR\", \"CHIN1\", \"CHIN2\"]"
   ]
  },
  {
   "cell_type": "markdown",
   "metadata": {},
   "source": [
    "## Looping through patients\n",
    "\n",
    "> As we only want to perform a very basic check, we are going to be looping through all the patients."
   ]
  },
  {
   "cell_type": "code",
   "execution_count": null,
   "metadata": {},
   "outputs": [
    {
     "data": {
      "application/vnd.jupyter.widget-view+json": {
       "model_id": "f43b91c5d1fe4685b6cfea2a44082df7",
       "version_major": 2,
       "version_minor": 0
      },
      "text/plain": [
       "Output()"
      ]
     },
     "metadata": {},
     "output_type": "display_data"
    },
    {
     "data": {
      "text/html": [
       "<pre style=\"white-space:pre;overflow-x:auto;line-height:normal;font-family:Menlo,'DejaVu Sans Mono',consolas,'Courier New',monospace\">Using data from preloaded Raw for 719 events and 3000 original time points ...\n",
       "</pre>\n"
      ],
      "text/plain": [
       "Using data from preloaded Raw for 719 events and 3000 original time points ...\n"
      ]
     },
     "metadata": {},
     "output_type": "display_data"
    },
    {
     "data": {
      "text/html": [
       "<pre style=\"white-space:pre;overflow-x:auto;line-height:normal;font-family:Menlo,'DejaVu Sans Mono',consolas,'Courier New',monospace\">1 bad epochs dropped\n",
       "</pre>\n"
      ],
      "text/plain": [
       "1 bad epochs dropped\n"
      ]
     },
     "metadata": {},
     "output_type": "display_data"
    },
    {
     "data": {
      "text/html": [
       "<pre style=\"white-space:pre;overflow-x:auto;line-height:normal;font-family:Menlo,'DejaVu Sans Mono',consolas,'Courier New',monospace\">Using data from preloaded Raw for 765 events and 3000 original time points ...\n",
       "</pre>\n"
      ],
      "text/plain": [
       "Using data from preloaded Raw for 765 events and 3000 original time points ...\n"
      ]
     },
     "metadata": {},
     "output_type": "display_data"
    },
    {
     "data": {
      "text/html": [
       "<pre style=\"white-space:pre;overflow-x:auto;line-height:normal;font-family:Menlo,'DejaVu Sans Mono',consolas,'Courier New',monospace\">1 bad epochs dropped\n",
       "</pre>\n"
      ],
      "text/plain": [
       "1 bad epochs dropped\n"
      ]
     },
     "metadata": {},
     "output_type": "display_data"
    },
    {
     "data": {
      "text/html": [
       "<pre style=\"white-space:pre;overflow-x:auto;line-height:normal;font-family:Menlo,'DejaVu Sans Mono',consolas,'Courier New',monospace\">Using data from preloaded Raw for 812 events and 3000 original time points ...\n",
       "</pre>\n"
      ],
      "text/plain": [
       "Using data from preloaded Raw for 812 events and 3000 original time points ...\n"
      ]
     },
     "metadata": {},
     "output_type": "display_data"
    },
    {
     "data": {
      "text/html": [
       "<pre style=\"white-space:pre;overflow-x:auto;line-height:normal;font-family:Menlo,'DejaVu Sans Mono',consolas,'Courier New',monospace\">1 bad epochs dropped\n",
       "</pre>\n"
      ],
      "text/plain": [
       "1 bad epochs dropped\n"
      ]
     },
     "metadata": {},
     "output_type": "display_data"
    },
    {
     "data": {
      "text/html": [
       "<pre style=\"white-space:pre;overflow-x:auto;line-height:normal;font-family:Menlo,'DejaVu Sans Mono',consolas,'Courier New',monospace\">Using data from preloaded Raw for 756 events and 3000 original time points ...\n",
       "</pre>\n"
      ],
      "text/plain": [
       "Using data from preloaded Raw for 756 events and 3000 original time points ...\n"
      ]
     },
     "metadata": {},
     "output_type": "display_data"
    },
    {
     "data": {
      "text/html": [
       "<pre style=\"white-space:pre;overflow-x:auto;line-height:normal;font-family:Menlo,'DejaVu Sans Mono',consolas,'Courier New',monospace\">0 bad epochs dropped\n",
       "</pre>\n"
      ],
      "text/plain": [
       "0 bad epochs dropped\n"
      ]
     },
     "metadata": {},
     "output_type": "display_data"
    },
    {
     "data": {
      "text/html": [
       "<pre style=\"white-space:pre;overflow-x:auto;line-height:normal;font-family:Menlo,'DejaVu Sans Mono',consolas,'Courier New',monospace\">Using data from preloaded Raw for 787 events and 3000 original time points ...\n",
       "</pre>\n"
      ],
      "text/plain": [
       "Using data from preloaded Raw for 787 events and 3000 original time points ...\n"
      ]
     },
     "metadata": {},
     "output_type": "display_data"
    },
    {
     "data": {
      "text/html": [
       "<pre style=\"white-space:pre;overflow-x:auto;line-height:normal;font-family:Menlo,'DejaVu Sans Mono',consolas,'Courier New',monospace\">1 bad epochs dropped\n",
       "</pre>\n"
      ],
      "text/plain": [
       "1 bad epochs dropped\n"
      ]
     },
     "metadata": {},
     "output_type": "display_data"
    },
    {
     "data": {
      "text/html": [
       "<pre style=\"white-space:pre;overflow-x:auto;line-height:normal;font-family:Menlo,'DejaVu Sans Mono',consolas,'Courier New',monospace\">/home/jorgevi/miniconda3/envs/sleepstaging/lib/python3.8/site-packages/sklearn/model_selection/_split.py:680: \n",
       "UserWarning: The least populated class in y has only 3 members, which is less than n_splits=5.\n",
       "  warnings.warn(\n",
       "</pre>\n"
      ],
      "text/plain": [
       "/home/jorgevi/miniconda3/envs/sleepstaging/lib/python3.8/site-packages/sklearn/model_selection/_split.py:680: \n",
       "UserWarning: The least populated class in y has only 3 members, which is less than n_splits=5.\n",
       "  warnings.warn(\n"
      ]
     },
     "metadata": {},
     "output_type": "display_data"
    },
    {
     "data": {
      "text/html": [
       "<pre style=\"white-space:pre;overflow-x:auto;line-height:normal;font-family:Menlo,'DejaVu Sans Mono',consolas,'Courier New',monospace\">Using data from preloaded Raw for 756 events and 3000 original time points ...\n",
       "</pre>\n"
      ],
      "text/plain": [
       "Using data from preloaded Raw for 756 events and 3000 original time points ...\n"
      ]
     },
     "metadata": {},
     "output_type": "display_data"
    },
    {
     "data": {
      "text/html": [
       "<pre style=\"white-space:pre;overflow-x:auto;line-height:normal;font-family:Menlo,'DejaVu Sans Mono',consolas,'Courier New',monospace\">1 bad epochs dropped\n",
       "</pre>\n"
      ],
      "text/plain": [
       "1 bad epochs dropped\n"
      ]
     },
     "metadata": {},
     "output_type": "display_data"
    },
    {
     "data": {
      "text/html": [
       "<pre style=\"white-space:pre;overflow-x:auto;line-height:normal;font-family:Menlo,'DejaVu Sans Mono',consolas,'Courier New',monospace\">Using data from preloaded Raw for 847 events and 3000 original time points ...\n",
       "</pre>\n"
      ],
      "text/plain": [
       "Using data from preloaded Raw for 847 events and 3000 original time points ...\n"
      ]
     },
     "metadata": {},
     "output_type": "display_data"
    },
    {
     "data": {
      "text/html": [
       "<pre style=\"white-space:pre;overflow-x:auto;line-height:normal;font-family:Menlo,'DejaVu Sans Mono',consolas,'Courier New',monospace\">1 bad epochs dropped\n",
       "</pre>\n"
      ],
      "text/plain": [
       "1 bad epochs dropped\n"
      ]
     },
     "metadata": {},
     "output_type": "display_data"
    },
    {
     "data": {
      "text/html": [
       "<pre style=\"white-space:pre;overflow-x:auto;line-height:normal;font-family:Menlo,'DejaVu Sans Mono',consolas,'Courier New',monospace\">Using data from preloaded Raw for 716 events and 3000 original time points ...\n",
       "</pre>\n"
      ],
      "text/plain": [
       "Using data from preloaded Raw for 716 events and 3000 original time points ...\n"
      ]
     },
     "metadata": {},
     "output_type": "display_data"
    },
    {
     "data": {
      "text/html": [
       "<pre style=\"white-space:pre;overflow-x:auto;line-height:normal;font-family:Menlo,'DejaVu Sans Mono',consolas,'Courier New',monospace\">1 bad epochs dropped\n",
       "</pre>\n"
      ],
      "text/plain": [
       "1 bad epochs dropped\n"
      ]
     },
     "metadata": {},
     "output_type": "display_data"
    },
    {
     "data": {
      "text/html": [
       "<pre style=\"white-space:pre;overflow-x:auto;line-height:normal;font-family:Menlo,'DejaVu Sans Mono',consolas,'Courier New',monospace\">/home/jorgevi/miniconda3/envs/sleepstaging/lib/python3.8/site-packages/sklearn/model_selection/_split.py:680: \n",
       "UserWarning: The least populated class in y has only 4 members, which is less than n_splits=5.\n",
       "  warnings.warn(\n",
       "</pre>\n"
      ],
      "text/plain": [
       "/home/jorgevi/miniconda3/envs/sleepstaging/lib/python3.8/site-packages/sklearn/model_selection/_split.py:680: \n",
       "UserWarning: The least populated class in y has only 4 members, which is less than n_splits=5.\n",
       "  warnings.warn(\n"
      ]
     },
     "metadata": {},
     "output_type": "display_data"
    },
    {
     "data": {
      "text/html": [
       "<pre style=\"white-space:pre;overflow-x:auto;line-height:normal;font-family:Menlo,'DejaVu Sans Mono',consolas,'Courier New',monospace\">Using data from preloaded Raw for 854 events and 3000 original time points ...\n",
       "</pre>\n"
      ],
      "text/plain": [
       "Using data from preloaded Raw for 854 events and 3000 original time points ...\n"
      ]
     },
     "metadata": {},
     "output_type": "display_data"
    },
    {
     "data": {
      "text/html": [
       "<pre style=\"white-space:pre;overflow-x:auto;line-height:normal;font-family:Menlo,'DejaVu Sans Mono',consolas,'Courier New',monospace\">1 bad epochs dropped\n",
       "</pre>\n"
      ],
      "text/plain": [
       "1 bad epochs dropped\n"
      ]
     },
     "metadata": {},
     "output_type": "display_data"
    },
    {
     "data": {
      "text/html": [
       "<pre style=\"white-space:pre;overflow-x:auto;line-height:normal;font-family:Menlo,'DejaVu Sans Mono',consolas,'Courier New',monospace\">Using data from preloaded Raw for 833 events and 3000 original time points ...\n",
       "</pre>\n"
      ],
      "text/plain": [
       "Using data from preloaded Raw for 833 events and 3000 original time points ...\n"
      ]
     },
     "metadata": {},
     "output_type": "display_data"
    },
    {
     "data": {
      "text/html": [
       "<pre style=\"white-space:pre;overflow-x:auto;line-height:normal;font-family:Menlo,'DejaVu Sans Mono',consolas,'Courier New',monospace\">1 bad epochs dropped\n",
       "</pre>\n"
      ],
      "text/plain": [
       "1 bad epochs dropped\n"
      ]
     },
     "metadata": {},
     "output_type": "display_data"
    },
    {
     "data": {
      "text/html": [
       "<pre style=\"white-space:pre;overflow-x:auto;line-height:normal;font-family:Menlo,'DejaVu Sans Mono',consolas,'Courier New',monospace\">Using data from preloaded Raw for 646 events and 3000 original time points ...\n",
       "</pre>\n"
      ],
      "text/plain": [
       "Using data from preloaded Raw for 646 events and 3000 original time points ...\n"
      ]
     },
     "metadata": {},
     "output_type": "display_data"
    },
    {
     "data": {
      "text/html": [
       "<pre style=\"white-space:pre;overflow-x:auto;line-height:normal;font-family:Menlo,'DejaVu Sans Mono',consolas,'Courier New',monospace\">1 bad epochs dropped\n",
       "</pre>\n"
      ],
      "text/plain": [
       "1 bad epochs dropped\n"
      ]
     },
     "metadata": {},
     "output_type": "display_data"
    },
    {
     "data": {
      "text/html": [
       "<pre style=\"white-space:pre;overflow-x:auto;line-height:normal;font-family:Menlo,'DejaVu Sans Mono',consolas,'Courier New',monospace\">Using data from preloaded Raw for 837 events and 3000 original time points ...\n",
       "</pre>\n"
      ],
      "text/plain": [
       "Using data from preloaded Raw for 837 events and 3000 original time points ...\n"
      ]
     },
     "metadata": {},
     "output_type": "display_data"
    },
    {
     "data": {
      "text/html": [
       "<pre style=\"white-space:pre;overflow-x:auto;line-height:normal;font-family:Menlo,'DejaVu Sans Mono',consolas,'Courier New',monospace\">1 bad epochs dropped\n",
       "</pre>\n"
      ],
      "text/plain": [
       "1 bad epochs dropped\n"
      ]
     },
     "metadata": {},
     "output_type": "display_data"
    },
    {
     "data": {
      "text/html": [
       "<pre style=\"white-space:pre;overflow-x:auto;line-height:normal;font-family:Menlo,'DejaVu Sans Mono',consolas,'Courier New',monospace\">Using data from preloaded Raw for 883 events and 3000 original time points ...\n",
       "</pre>\n"
      ],
      "text/plain": [
       "Using data from preloaded Raw for 883 events and 3000 original time points ...\n"
      ]
     },
     "metadata": {},
     "output_type": "display_data"
    },
    {
     "data": {
      "text/html": [
       "<pre style=\"white-space:pre;overflow-x:auto;line-height:normal;font-family:Menlo,'DejaVu Sans Mono',consolas,'Courier New',monospace\">1 bad epochs dropped\n",
       "</pre>\n"
      ],
      "text/plain": [
       "1 bad epochs dropped\n"
      ]
     },
     "metadata": {},
     "output_type": "display_data"
    },
    {
     "data": {
      "text/html": [
       "<pre style=\"white-space:pre;overflow-x:auto;line-height:normal;font-family:Menlo,'DejaVu Sans Mono',consolas,'Courier New',monospace\">Using data from preloaded Raw for 806 events and 3000 original time points ...\n",
       "</pre>\n"
      ],
      "text/plain": [
       "Using data from preloaded Raw for 806 events and 3000 original time points ...\n"
      ]
     },
     "metadata": {},
     "output_type": "display_data"
    },
    {
     "data": {
      "text/html": [
       "<pre style=\"white-space:pre;overflow-x:auto;line-height:normal;font-family:Menlo,'DejaVu Sans Mono',consolas,'Courier New',monospace\">1 bad epochs dropped\n",
       "</pre>\n"
      ],
      "text/plain": [
       "1 bad epochs dropped\n"
      ]
     },
     "metadata": {},
     "output_type": "display_data"
    },
    {
     "data": {
      "text/html": [
       "<pre style=\"white-space:pre;overflow-x:auto;line-height:normal;font-family:Menlo,'DejaVu Sans Mono',consolas,'Courier New',monospace\">Using data from preloaded Raw for 854 events and 3000 original time points ...\n",
       "</pre>\n"
      ],
      "text/plain": [
       "Using data from preloaded Raw for 854 events and 3000 original time points ...\n"
      ]
     },
     "metadata": {},
     "output_type": "display_data"
    },
    {
     "data": {
      "text/html": [
       "<pre style=\"white-space:pre;overflow-x:auto;line-height:normal;font-family:Menlo,'DejaVu Sans Mono',consolas,'Courier New',monospace\">1 bad epochs dropped\n",
       "</pre>\n"
      ],
      "text/plain": [
       "1 bad epochs dropped\n"
      ]
     },
     "metadata": {},
     "output_type": "display_data"
    },
    {
     "data": {
      "text/html": [
       "<pre style=\"white-space:pre;overflow-x:auto;line-height:normal;font-family:Menlo,'DejaVu Sans Mono',consolas,'Courier New',monospace\">Using data from preloaded Raw for 814 events and 3000 original time points ...\n",
       "</pre>\n"
      ],
      "text/plain": [
       "Using data from preloaded Raw for 814 events and 3000 original time points ...\n"
      ]
     },
     "metadata": {},
     "output_type": "display_data"
    },
    {
     "data": {
      "text/html": [
       "<pre style=\"white-space:pre;overflow-x:auto;line-height:normal;font-family:Menlo,'DejaVu Sans Mono',consolas,'Courier New',monospace\">1 bad epochs dropped\n",
       "</pre>\n"
      ],
      "text/plain": [
       "1 bad epochs dropped\n"
      ]
     },
     "metadata": {},
     "output_type": "display_data"
    },
    {
     "data": {
      "text/html": [
       "<pre style=\"white-space:pre;overflow-x:auto;line-height:normal;font-family:Menlo,'DejaVu Sans Mono',consolas,'Courier New',monospace\">Using data from preloaded Raw for 876 events and 3000 original time points ...\n",
       "</pre>\n"
      ],
      "text/plain": [
       "Using data from preloaded Raw for 876 events and 3000 original time points ...\n"
      ]
     },
     "metadata": {},
     "output_type": "display_data"
    },
    {
     "data": {
      "text/html": [
       "<pre style=\"white-space:pre;overflow-x:auto;line-height:normal;font-family:Menlo,'DejaVu Sans Mono',consolas,'Courier New',monospace\">1 bad epochs dropped\n",
       "</pre>\n"
      ],
      "text/plain": [
       "1 bad epochs dropped\n"
      ]
     },
     "metadata": {},
     "output_type": "display_data"
    },
    {
     "data": {
      "text/html": [
       "<pre style=\"white-space:pre;overflow-x:auto;line-height:normal;font-family:Menlo,'DejaVu Sans Mono',consolas,'Courier New',monospace\">Using data from preloaded Raw for 954 events and 3000 original time points ...\n",
       "</pre>\n"
      ],
      "text/plain": [
       "Using data from preloaded Raw for 954 events and 3000 original time points ...\n"
      ]
     },
     "metadata": {},
     "output_type": "display_data"
    },
    {
     "data": {
      "text/html": [
       "<pre style=\"white-space:pre;overflow-x:auto;line-height:normal;font-family:Menlo,'DejaVu Sans Mono',consolas,'Courier New',monospace\">1 bad epochs dropped\n",
       "</pre>\n"
      ],
      "text/plain": [
       "1 bad epochs dropped\n"
      ]
     },
     "metadata": {},
     "output_type": "display_data"
    },
    {
     "data": {
      "text/html": [
       "<pre style=\"white-space:pre;overflow-x:auto;line-height:normal;font-family:Menlo,'DejaVu Sans Mono',consolas,'Courier New',monospace\">Using data from preloaded Raw for 821 events and 3000 original time points ...\n",
       "</pre>\n"
      ],
      "text/plain": [
       "Using data from preloaded Raw for 821 events and 3000 original time points ...\n"
      ]
     },
     "metadata": {},
     "output_type": "display_data"
    },
    {
     "data": {
      "text/html": [
       "<pre style=\"white-space:pre;overflow-x:auto;line-height:normal;font-family:Menlo,'DejaVu Sans Mono',consolas,'Courier New',monospace\">1 bad epochs dropped\n",
       "</pre>\n"
      ],
      "text/plain": [
       "1 bad epochs dropped\n"
      ]
     },
     "metadata": {},
     "output_type": "display_data"
    },
    {
     "data": {
      "text/html": [
       "<pre style=\"white-space:pre;overflow-x:auto;line-height:normal;font-family:Menlo,'DejaVu Sans Mono',consolas,'Courier New',monospace\">Using data from preloaded Raw for 809 events and 3000 original time points ...\n",
       "</pre>\n"
      ],
      "text/plain": [
       "Using data from preloaded Raw for 809 events and 3000 original time points ...\n"
      ]
     },
     "metadata": {},
     "output_type": "display_data"
    },
    {
     "data": {
      "text/html": [
       "<pre style=\"white-space:pre;overflow-x:auto;line-height:normal;font-family:Menlo,'DejaVu Sans Mono',consolas,'Courier New',monospace\">1 bad epochs dropped\n",
       "</pre>\n"
      ],
      "text/plain": [
       "1 bad epochs dropped\n"
      ]
     },
     "metadata": {},
     "output_type": "display_data"
    },
    {
     "data": {
      "text/html": [
       "<pre style=\"white-space:pre;overflow-x:auto;line-height:normal;font-family:Menlo,'DejaVu Sans Mono',consolas,'Courier New',monospace\">Using data from preloaded Raw for 762 events and 3000 original time points ...\n",
       "</pre>\n"
      ],
      "text/plain": [
       "Using data from preloaded Raw for 762 events and 3000 original time points ...\n"
      ]
     },
     "metadata": {},
     "output_type": "display_data"
    },
    {
     "data": {
      "text/html": [
       "<pre style=\"white-space:pre;overflow-x:auto;line-height:normal;font-family:Menlo,'DejaVu Sans Mono',consolas,'Courier New',monospace\">1 bad epochs dropped\n",
       "</pre>\n"
      ],
      "text/plain": [
       "1 bad epochs dropped\n"
      ]
     },
     "metadata": {},
     "output_type": "display_data"
    },
    {
     "data": {
      "text/html": [
       "<pre style=\"white-space:pre;overflow-x:auto;line-height:normal;font-family:Menlo,'DejaVu Sans Mono',consolas,'Courier New',monospace\">Using data from preloaded Raw for 612 events and 3000 original time points ...\n",
       "</pre>\n"
      ],
      "text/plain": [
       "Using data from preloaded Raw for 612 events and 3000 original time points ...\n"
      ]
     },
     "metadata": {},
     "output_type": "display_data"
    },
    {
     "data": {
      "text/html": [
       "<pre style=\"white-space:pre;overflow-x:auto;line-height:normal;font-family:Menlo,'DejaVu Sans Mono',consolas,'Courier New',monospace\">1 bad epochs dropped\n",
       "</pre>\n"
      ],
      "text/plain": [
       "1 bad epochs dropped\n"
      ]
     },
     "metadata": {},
     "output_type": "display_data"
    },
    {
     "data": {
      "text/html": [
       "<pre style=\"white-space:pre;overflow-x:auto;line-height:normal;font-family:Menlo,'DejaVu Sans Mono',consolas,'Courier New',monospace\">Using data from preloaded Raw for 819 events and 3000 original time points ...\n",
       "</pre>\n"
      ],
      "text/plain": [
       "Using data from preloaded Raw for 819 events and 3000 original time points ...\n"
      ]
     },
     "metadata": {},
     "output_type": "display_data"
    },
    {
     "data": {
      "text/html": [
       "<pre style=\"white-space:pre;overflow-x:auto;line-height:normal;font-family:Menlo,'DejaVu Sans Mono',consolas,'Courier New',monospace\">1 bad epochs dropped\n",
       "</pre>\n"
      ],
      "text/plain": [
       "1 bad epochs dropped\n"
      ]
     },
     "metadata": {},
     "output_type": "display_data"
    },
    {
     "data": {
      "text/html": [
       "<pre style=\"white-space:pre;overflow-x:auto;line-height:normal;font-family:Menlo,'DejaVu Sans Mono',consolas,'Courier New',monospace\">Using data from preloaded Raw for 852 events and 3000 original time points ...\n",
       "</pre>\n"
      ],
      "text/plain": [
       "Using data from preloaded Raw for 852 events and 3000 original time points ...\n"
      ]
     },
     "metadata": {},
     "output_type": "display_data"
    },
    {
     "data": {
      "text/html": [
       "<pre style=\"white-space:pre;overflow-x:auto;line-height:normal;font-family:Menlo,'DejaVu Sans Mono',consolas,'Courier New',monospace\">1 bad epochs dropped\n",
       "</pre>\n"
      ],
      "text/plain": [
       "1 bad epochs dropped\n"
      ]
     },
     "metadata": {},
     "output_type": "display_data"
    },
    {
     "data": {
      "text/html": [
       "<pre style=\"white-space:pre;overflow-x:auto;line-height:normal;font-family:Menlo,'DejaVu Sans Mono',consolas,'Courier New',monospace\">Using data from preloaded Raw for 841 events and 3000 original time points ...\n",
       "</pre>\n"
      ],
      "text/plain": [
       "Using data from preloaded Raw for 841 events and 3000 original time points ...\n"
      ]
     },
     "metadata": {},
     "output_type": "display_data"
    },
    {
     "data": {
      "text/html": [
       "<pre style=\"white-space:pre;overflow-x:auto;line-height:normal;font-family:Menlo,'DejaVu Sans Mono',consolas,'Courier New',monospace\">1 bad epochs dropped\n",
       "</pre>\n"
      ],
      "text/plain": [
       "1 bad epochs dropped\n"
      ]
     },
     "metadata": {},
     "output_type": "display_data"
    },
    {
     "data": {
      "text/html": [
       "<pre style=\"white-space:pre;overflow-x:auto;line-height:normal;font-family:Menlo,'DejaVu Sans Mono',consolas,'Courier New',monospace\">Using data from preloaded Raw for 751 events and 3000 original time points ...\n",
       "</pre>\n"
      ],
      "text/plain": [
       "Using data from preloaded Raw for 751 events and 3000 original time points ...\n"
      ]
     },
     "metadata": {},
     "output_type": "display_data"
    },
    {
     "data": {
      "text/html": [
       "<pre style=\"white-space:pre;overflow-x:auto;line-height:normal;font-family:Menlo,'DejaVu Sans Mono',consolas,'Courier New',monospace\">1 bad epochs dropped\n",
       "</pre>\n"
      ],
      "text/plain": [
       "1 bad epochs dropped\n"
      ]
     },
     "metadata": {},
     "output_type": "display_data"
    },
    {
     "data": {
      "text/html": [
       "<pre style=\"white-space:pre;overflow-x:auto;line-height:normal;font-family:Menlo,'DejaVu Sans Mono',consolas,'Courier New',monospace\">Using data from preloaded Raw for 739 events and 3000 original time points ...\n",
       "</pre>\n"
      ],
      "text/plain": [
       "Using data from preloaded Raw for 739 events and 3000 original time points ...\n"
      ]
     },
     "metadata": {},
     "output_type": "display_data"
    },
    {
     "data": {
      "text/html": [
       "<pre style=\"white-space:pre;overflow-x:auto;line-height:normal;font-family:Menlo,'DejaVu Sans Mono',consolas,'Courier New',monospace\">1 bad epochs dropped\n",
       "</pre>\n"
      ],
      "text/plain": [
       "1 bad epochs dropped\n"
      ]
     },
     "metadata": {},
     "output_type": "display_data"
    },
    {
     "data": {
      "text/html": [
       "<pre style=\"white-space:pre;overflow-x:auto;line-height:normal;font-family:Menlo,'DejaVu Sans Mono',consolas,'Courier New',monospace\">Using data from preloaded Raw for 761 events and 3000 original time points ...\n",
       "</pre>\n"
      ],
      "text/plain": [
       "Using data from preloaded Raw for 761 events and 3000 original time points ...\n"
      ]
     },
     "metadata": {},
     "output_type": "display_data"
    },
    {
     "data": {
      "text/html": [
       "<pre style=\"white-space:pre;overflow-x:auto;line-height:normal;font-family:Menlo,'DejaVu Sans Mono',consolas,'Courier New',monospace\">1 bad epochs dropped\n",
       "</pre>\n"
      ],
      "text/plain": [
       "1 bad epochs dropped\n"
      ]
     },
     "metadata": {},
     "output_type": "display_data"
    },
    {
     "data": {
      "text/html": [
       "<pre style=\"white-space:pre;overflow-x:auto;line-height:normal;font-family:Menlo,'DejaVu Sans Mono',consolas,'Courier New',monospace\"></pre>\n"
      ],
      "text/plain": []
     },
     "metadata": {},
     "output_type": "display_data"
    },
    {
     "data": {
      "text/html": [
       "<pre style=\"white-space:pre;overflow-x:auto;line-height:normal;font-family:Menlo,'DejaVu Sans Mono',consolas,'Courier New',monospace\">\n",
       "</pre>\n"
      ],
      "text/plain": [
       "\n"
      ]
     },
     "metadata": {},
     "output_type": "display_data"
    },
    {
     "ename": "ValueError",
     "evalue": "zero-size array to reduction operation maximum which has no identity",
     "output_type": "error",
     "traceback": [
      "\u001b[0;31m---------------------------------------------------------------------------\u001b[0m",
      "\u001b[0;31mValueError\u001b[0m                                Traceback (most recent call last)",
      "Cell \u001b[0;32mIn [27], line 6\u001b[0m\n\u001b[1;32m      4\u001b[0m file_name \u001b[38;5;241m=\u001b[39m path\u001b[38;5;241m.\u001b[39msplit(\u001b[38;5;124m\"\u001b[39m\u001b[38;5;124m/\u001b[39m\u001b[38;5;124m\"\u001b[39m)[\u001b[38;5;241m-\u001b[39m\u001b[38;5;241m1\u001b[39m]\n\u001b[1;32m      5\u001b[0m raw \u001b[38;5;241m=\u001b[39m read_clean_edf(path, resample\u001b[38;5;241m=\u001b[39m\u001b[38;5;241m100\u001b[39m, bandpass\u001b[38;5;241m=\u001b[39m(\u001b[38;5;241m0.3\u001b[39m, \u001b[38;5;241m49\u001b[39m))\n\u001b[0;32m----> 6\u001b[0m epochs, sr \u001b[38;5;241m=\u001b[39m \u001b[43mget_epochs\u001b[49m\u001b[43m(\u001b[49m\u001b[43mraw\u001b[49m\u001b[43m,\u001b[49m\u001b[43m \u001b[49m\u001b[43mchannels\u001b[49m\u001b[38;5;241;43m=\u001b[39;49m\u001b[43mchannels\u001b[49m\u001b[43m)\u001b[49m\n\u001b[1;32m      7\u001b[0m bandpowers \u001b[38;5;241m=\u001b[39m calculate_bandpower(epochs, sf\u001b[38;5;241m=\u001b[39msr)\n\u001b[1;32m      8\u001b[0m labels \u001b[38;5;241m=\u001b[39m epochs\u001b[38;5;241m.\u001b[39mevents[:,\u001b[38;5;241m-\u001b[39m\u001b[38;5;241m1\u001b[39m]\n",
      "File \u001b[0;32m~/sleepstagingidal/sleepstagingidal/data.py:28\u001b[0m, in \u001b[0;36mget_epochs\u001b[0;34m(data, channels, verbose)\u001b[0m\n\u001b[1;32m     25\u001b[0m events, events_id \u001b[39m=\u001b[39m mne\u001b[39m.\u001b[39mevents_from_annotations(data, regexp\u001b[39m=\u001b[39m\u001b[39m'\u001b[39m\u001b[39mSleep stage [A-Z]\u001b[39m\u001b[39m\\\u001b[39m\u001b[39md*\u001b[39m\u001b[39m'\u001b[39m, verbose\u001b[39m=\u001b[39mverbose)\n\u001b[1;32m     27\u001b[0m tmax \u001b[39m=\u001b[39m \u001b[39m30.\u001b[39m \u001b[39m-\u001b[39m \u001b[39m1.\u001b[39m \u001b[39m/\u001b[39m sampling_rate  \u001b[39m# tmax is included\u001b[39;00m\n\u001b[0;32m---> 28\u001b[0m epochs \u001b[39m=\u001b[39m mne\u001b[39m.\u001b[39;49mEpochs(raw\u001b[39m=\u001b[39;49mdata, \n\u001b[1;32m     29\u001b[0m                     events\u001b[39m=\u001b[39;49mevents,\n\u001b[1;32m     30\u001b[0m                     event_id\u001b[39m=\u001b[39;49mevents_id,\n\u001b[1;32m     31\u001b[0m                     tmin\u001b[39m=\u001b[39;49m\u001b[39m0.\u001b[39;49m, \n\u001b[1;32m     32\u001b[0m                     tmax\u001b[39m=\u001b[39;49mtmax, \n\u001b[1;32m     33\u001b[0m                     baseline\u001b[39m=\u001b[39;49m\u001b[39mNone\u001b[39;49;00m, \n\u001b[1;32m     34\u001b[0m                     event_repeated\u001b[39m=\u001b[39;49m\u001b[39m'\u001b[39;49m\u001b[39mmerge\u001b[39;49m\u001b[39m'\u001b[39;49m,\n\u001b[1;32m     35\u001b[0m                     picks\u001b[39m=\u001b[39;49mchannels,\n\u001b[1;32m     36\u001b[0m                     verbose\u001b[39m=\u001b[39;49mverbose)\n\u001b[1;32m     38\u001b[0m epochs\u001b[39m.\u001b[39mdrop_bad()\n\u001b[1;32m     39\u001b[0m \u001b[39mreturn\u001b[39;00m epochs, sampling_rate\n",
      "File \u001b[0;32m<decorator-gen-259>:10\u001b[0m, in \u001b[0;36m__init__\u001b[0;34m(self, raw, events, event_id, tmin, tmax, baseline, picks, preload, reject, flat, proj, decim, reject_tmin, reject_tmax, detrend, on_missing, reject_by_annotation, metadata, event_repeated, verbose)\u001b[0m\n",
      "File \u001b[0;32m~/miniconda3/envs/sleepstaging/lib/python3.8/site-packages/mne/epochs.py:2570\u001b[0m, in \u001b[0;36mEpochs.__init__\u001b[0;34m(self, raw, events, event_id, tmin, tmax, baseline, picks, preload, reject, flat, proj, decim, reject_tmin, reject_tmax, detrend, on_missing, reject_by_annotation, metadata, event_repeated, verbose)\u001b[0m\n\u001b[1;32m   2567\u001b[0m raw_sfreq \u001b[39m=\u001b[39m raw\u001b[39m.\u001b[39minfo[\u001b[39m'\u001b[39m\u001b[39msfreq\u001b[39m\u001b[39m'\u001b[39m]\n\u001b[1;32m   2569\u001b[0m \u001b[39m# call BaseEpochs constructor\u001b[39;00m\n\u001b[0;32m-> 2570\u001b[0m \u001b[39msuper\u001b[39;49m(Epochs, \u001b[39mself\u001b[39;49m)\u001b[39m.\u001b[39;49m\u001b[39m__init__\u001b[39;49m(\n\u001b[1;32m   2571\u001b[0m     info, \u001b[39mNone\u001b[39;49;00m, events, event_id, tmin, tmax,\n\u001b[1;32m   2572\u001b[0m     metadata\u001b[39m=\u001b[39;49mmetadata, baseline\u001b[39m=\u001b[39;49mbaseline, raw\u001b[39m=\u001b[39;49mraw, picks\u001b[39m=\u001b[39;49mpicks,\n\u001b[1;32m   2573\u001b[0m     reject\u001b[39m=\u001b[39;49mreject, flat\u001b[39m=\u001b[39;49mflat, decim\u001b[39m=\u001b[39;49mdecim, reject_tmin\u001b[39m=\u001b[39;49mreject_tmin,\n\u001b[1;32m   2574\u001b[0m     reject_tmax\u001b[39m=\u001b[39;49mreject_tmax, detrend\u001b[39m=\u001b[39;49mdetrend,\n\u001b[1;32m   2575\u001b[0m     proj\u001b[39m=\u001b[39;49mproj, on_missing\u001b[39m=\u001b[39;49mon_missing, preload_at_end\u001b[39m=\u001b[39;49mpreload,\n\u001b[1;32m   2576\u001b[0m     event_repeated\u001b[39m=\u001b[39;49mevent_repeated, verbose\u001b[39m=\u001b[39;49mverbose,\n\u001b[1;32m   2577\u001b[0m     raw_sfreq\u001b[39m=\u001b[39;49mraw_sfreq, annotations\u001b[39m=\u001b[39;49mraw\u001b[39m.\u001b[39;49mannotations)\n",
      "File \u001b[0;32m<decorator-gen-247>:10\u001b[0m, in \u001b[0;36m__init__\u001b[0;34m(self, info, data, events, event_id, tmin, tmax, baseline, raw, picks, reject, flat, decim, reject_tmin, reject_tmax, detrend, proj, on_missing, preload_at_end, selection, drop_log, filename, metadata, event_repeated, verbose, raw_sfreq, annotations)\u001b[0m\n",
      "File \u001b[0;32m~/miniconda3/envs/sleepstaging/lib/python3.8/site-packages/mne/epochs.py:408\u001b[0m, in \u001b[0;36mBaseEpochs.__init__\u001b[0;34m(self, info, data, events, event_id, tmin, tmax, baseline, raw, picks, reject, flat, decim, reject_tmin, reject_tmax, detrend, proj, on_missing, preload_at_end, selection, drop_log, filename, metadata, event_repeated, verbose, raw_sfreq, annotations)\u001b[0m\n\u001b[1;32m    406\u001b[0m \u001b[39mif\u001b[39;00m events \u001b[39mis\u001b[39;00m \u001b[39mnot\u001b[39;00m \u001b[39mNone\u001b[39;00m:  \u001b[39m# RtEpochs can have events=None\u001b[39;00m\n\u001b[1;32m    407\u001b[0m     events \u001b[39m=\u001b[39m _ensure_events(events)\n\u001b[0;32m--> 408\u001b[0m     events_max \u001b[39m=\u001b[39m events\u001b[39m.\u001b[39;49mmax()\n\u001b[1;32m    409\u001b[0m     \u001b[39mif\u001b[39;00m events_max \u001b[39m>\u001b[39m INT32_MAX:\n\u001b[1;32m    410\u001b[0m         \u001b[39mraise\u001b[39;00m \u001b[39mValueError\u001b[39;00m(\n\u001b[1;32m    411\u001b[0m             \u001b[39mf\u001b[39m\u001b[39m'\u001b[39m\u001b[39mevents array values must not exceed \u001b[39m\u001b[39m{\u001b[39;00mINT32_MAX\u001b[39m}\u001b[39;00m\u001b[39m, \u001b[39m\u001b[39m'\u001b[39m\n\u001b[1;32m    412\u001b[0m             \u001b[39mf\u001b[39m\u001b[39m'\u001b[39m\u001b[39mgot \u001b[39m\u001b[39m{\u001b[39;00mevents_max\u001b[39m}\u001b[39;00m\u001b[39m'\u001b[39m)\n",
      "File \u001b[0;32m~/miniconda3/envs/sleepstaging/lib/python3.8/site-packages/numpy/core/_methods.py:40\u001b[0m, in \u001b[0;36m_amax\u001b[0;34m(a, axis, out, keepdims, initial, where)\u001b[0m\n\u001b[1;32m     38\u001b[0m \u001b[39mdef\u001b[39;00m \u001b[39m_amax\u001b[39m(a, axis\u001b[39m=\u001b[39m\u001b[39mNone\u001b[39;00m, out\u001b[39m=\u001b[39m\u001b[39mNone\u001b[39;00m, keepdims\u001b[39m=\u001b[39m\u001b[39mFalse\u001b[39;00m,\n\u001b[1;32m     39\u001b[0m           initial\u001b[39m=\u001b[39m_NoValue, where\u001b[39m=\u001b[39m\u001b[39mTrue\u001b[39;00m):\n\u001b[0;32m---> 40\u001b[0m     \u001b[39mreturn\u001b[39;00m umr_maximum(a, axis, \u001b[39mNone\u001b[39;49;00m, out, keepdims, initial, where)\n",
      "\u001b[0;31mValueError\u001b[0m: zero-size array to reduction operation maximum which has no identity"
     ]
    }
   ],
   "source": [
    "#| output: false\n",
    "\n",
    "results = {}\n",
    "\n",
    "for path in track(path_files):\n",
    "    file_name = path.split(\"/\")[-1]\n",
    "    raw = read_clean_edf(path, resample=100, bandpass=(0.3, 49))\n",
    "    epochs, sr = get_epochs(raw, channels=channels)\n",
    "    bandpowers = calculate_bandpower(epochs, sf=sr)\n",
    "    labels = epochs.events[:,-1]\n",
    "    results_cv = cross_validate(RandomForestClassifier(random_state=42), bandpowers, labels)\n",
    "    results[file_name] = results_cv['test_score']"
   ]
  },
  {
   "cell_type": "code",
   "execution_count": null,
   "metadata": {},
   "outputs": [
    {
     "data": {
      "text/plain": [
       "{'PSG29.edf': array([0.54861111, 0.47222222, 0.44444444, 0.32167832, 0.51748252]),\n",
       " 'PSG12.edf': array([0.41176471, 0.39215686, 0.61437908, 0.39869281, 0.47368421]),\n",
       " 'PSG17.edf': array([0.34969325, 0.5617284 , 0.53703704, 0.50617284, 0.20987654]),\n",
       " 'PSG10.edf': array([0.65789474, 0.8013245 , 0.62913907, 0.34437086, 0.57615894]),\n",
       " 'PSG23.edf': array([0.87341772, 0.81528662, 0.82165605, 0.87898089, 0.60509554]),\n",
       " 'PSG25.edf': array([0.31788079, 0.52980132, 0.59602649, 0.37086093, 0.49006623]),\n",
       " 'PSG35.edf': array([0.65294118, 0.5147929 , 0.53846154, 0.61538462, 0.62721893]),\n",
       " 'PSG11.edf': array([0.62237762, 0.82517483, 0.76923077, 0.51748252, 0.21678322]),\n",
       " 'PSG30.edf': array([0.59064327, 0.68421053, 0.71345029, 0.71764706, 0.61176471]),\n",
       " 'PSG16.edf': array([0.88023952, 0.83832335, 0.94578313, 0.90963855, 0.81927711]),\n",
       " 'PSG21.edf': array([0.52713178, 0.48062016, 0.51162791, 0.35658915, 0.48837209]),\n",
       " 'PSG9.edf': array([0.42261905, 0.41916168, 0.35329341, 0.19161677, 0.21556886]),\n",
       " 'PSG1.edf': array([0.63276836, 0.76836158, 0.64204545, 0.61363636, 0.63068182]),\n",
       " 'PSG13.edf': array([0.66459627, 0.71428571, 0.73913043, 0.64596273, 0.57763975]),\n",
       " 'PSG3.edf': array([0.56140351, 0.73684211, 0.83040936, 0.84117647, 0.68823529]),\n",
       " 'PSG6.edf': array([0.57055215, 0.50920245, 0.48466258, 0.4382716 , 0.29012346]),\n",
       " 'PSG20.edf': array([0.86857143, 0.78857143, 0.82857143, 0.82285714, 0.8       ]),\n",
       " 'PSG24.edf': array([0.77486911, 0.86910995, 0.85340314, 0.69473684, 0.82631579]),\n",
       " 'PSG31.edf': array([0.42682927, 0.50609756, 0.4695122 , 0.41463415, 0.41463415]),\n",
       " 'PSG32.edf': array([0.88271605, 0.93209877, 0.75925926, 0.85093168, 0.72670807]),\n",
       " 'PSG18.edf': array([0.55555556, 0.60526316, 0.60526316, 0.47368421, 0.35526316]),\n",
       " 'PSG15.edf': array([0.88617886, 0.91803279, 0.90983607, 0.90163934, 0.83606557]),\n",
       " 'PSG26.edf': array([0.49390244, 0.26829268, 0.22560976, 0.49079755, 0.4601227 ]),\n",
       " 'PSG34.edf': array([0.63157895, 0.44705882, 0.68823529, 0.64705882, 0.49411765]),\n",
       " 'PSG2.edf': array([0.54166667, 0.68452381, 0.74404762, 0.53571429, 0.4702381 ]),\n",
       " 'PSG19.edf': array([0.68      , 0.61333333, 0.73333333, 0.87333333, 0.68      ]),\n",
       " 'PSG5.edf': array([0.39189189, 0.54054054, 0.43918919, 0.4829932 , 0.37414966]),\n",
       " 'PSG7.edf': array([0.51315789, 0.59210526, 0.59868421, 0.35526316, 0.19736842])}"
      ]
     },
     "execution_count": null,
     "metadata": {},
     "output_type": "execute_result"
    }
   ],
   "source": [
    "#| hide\n",
    "results"
   ]
  },
  {
   "cell_type": "markdown",
   "metadata": {},
   "source": [
    "We can put the logged results into a `DataFrame` and save them as `.csv` to avoid having to repeat the experiment:"
   ]
  },
  {
   "cell_type": "code",
   "execution_count": null,
   "metadata": {},
   "outputs": [
    {
     "data": {
      "text/html": [
       "<div>\n",
       "<style scoped>\n",
       "    .dataframe tbody tr th:only-of-type {\n",
       "        vertical-align: middle;\n",
       "    }\n",
       "\n",
       "    .dataframe tbody tr th {\n",
       "        vertical-align: top;\n",
       "    }\n",
       "\n",
       "    .dataframe thead th {\n",
       "        text-align: right;\n",
       "    }\n",
       "</style>\n",
       "<table border=\"1\" class=\"dataframe\">\n",
       "  <thead>\n",
       "    <tr style=\"text-align: right;\">\n",
       "      <th></th>\n",
       "      <th>0</th>\n",
       "      <th>1</th>\n",
       "      <th>2</th>\n",
       "      <th>3</th>\n",
       "      <th>4</th>\n",
       "      <th>Mean</th>\n",
       "      <th>Std</th>\n",
       "    </tr>\n",
       "    <tr>\n",
       "      <th>File</th>\n",
       "      <th></th>\n",
       "      <th></th>\n",
       "      <th></th>\n",
       "      <th></th>\n",
       "      <th></th>\n",
       "      <th></th>\n",
       "      <th></th>\n",
       "    </tr>\n",
       "  </thead>\n",
       "  <tbody>\n",
       "    <tr>\n",
       "      <th>PSG29.edf</th>\n",
       "      <td>0.548611</td>\n",
       "      <td>0.472222</td>\n",
       "      <td>0.444444</td>\n",
       "      <td>0.321678</td>\n",
       "      <td>0.517483</td>\n",
       "      <td>0.460888</td>\n",
       "      <td>0.078328</td>\n",
       "    </tr>\n",
       "    <tr>\n",
       "      <th>PSG12.edf</th>\n",
       "      <td>0.411765</td>\n",
       "      <td>0.392157</td>\n",
       "      <td>0.614379</td>\n",
       "      <td>0.398693</td>\n",
       "      <td>0.473684</td>\n",
       "      <td>0.458136</td>\n",
       "      <td>0.083295</td>\n",
       "    </tr>\n",
       "    <tr>\n",
       "      <th>PSG17.edf</th>\n",
       "      <td>0.349693</td>\n",
       "      <td>0.561728</td>\n",
       "      <td>0.537037</td>\n",
       "      <td>0.506173</td>\n",
       "      <td>0.209877</td>\n",
       "      <td>0.432902</td>\n",
       "      <td>0.133771</td>\n",
       "    </tr>\n",
       "    <tr>\n",
       "      <th>PSG10.edf</th>\n",
       "      <td>0.657895</td>\n",
       "      <td>0.801325</td>\n",
       "      <td>0.629139</td>\n",
       "      <td>0.344371</td>\n",
       "      <td>0.576159</td>\n",
       "      <td>0.601778</td>\n",
       "      <td>0.148749</td>\n",
       "    </tr>\n",
       "    <tr>\n",
       "      <th>PSG23.edf</th>\n",
       "      <td>0.873418</td>\n",
       "      <td>0.815287</td>\n",
       "      <td>0.821656</td>\n",
       "      <td>0.878981</td>\n",
       "      <td>0.605096</td>\n",
       "      <td>0.798887</td>\n",
       "      <td>0.100312</td>\n",
       "    </tr>\n",
       "  </tbody>\n",
       "</table>\n",
       "</div>"
      ],
      "text/plain": [
       "                  0         1         2         3         4      Mean  \\\n",
       "File                                                                    \n",
       "PSG29.edf  0.548611  0.472222  0.444444  0.321678  0.517483  0.460888   \n",
       "PSG12.edf  0.411765  0.392157  0.614379  0.398693  0.473684  0.458136   \n",
       "PSG17.edf  0.349693  0.561728  0.537037  0.506173  0.209877  0.432902   \n",
       "PSG10.edf  0.657895  0.801325  0.629139  0.344371  0.576159  0.601778   \n",
       "PSG23.edf  0.873418  0.815287  0.821656  0.878981  0.605096  0.798887   \n",
       "\n",
       "                Std  \n",
       "File                 \n",
       "PSG29.edf  0.078328  \n",
       "PSG12.edf  0.083295  \n",
       "PSG17.edf  0.133771  \n",
       "PSG10.edf  0.148749  \n",
       "PSG23.edf  0.100312  "
      ]
     },
     "execution_count": null,
     "metadata": {},
     "output_type": "execute_result"
    }
   ],
   "source": [
    "df = pd.DataFrame.from_dict(results, orient='index')\n",
    "df.index.set_names(\"File\", inplace=True)\n",
    "df['Mean'] = df.mean(axis=1)\n",
    "df['Std'] = df.std(axis=1)\n",
    "df.head()"
   ]
  },
  {
   "cell_type": "code",
   "execution_count": null,
   "metadata": {},
   "outputs": [],
   "source": [
    "df.to_csv(\"Results/00_basic_features_own_patient.csv\")"
   ]
  }
 ],
 "metadata": {
  "kernelspec": {
   "display_name": "Python 3.8.0 ('sleepstaging')",
   "language": "python",
   "name": "python3"
  }
 },
 "nbformat": 4,
 "nbformat_minor": 2
}
