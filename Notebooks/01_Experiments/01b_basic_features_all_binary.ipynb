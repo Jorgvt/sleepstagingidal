{
 "cells": [
  {
   "cell_type": "markdown",
   "metadata": {},
   "source": [
    "# [All] Pre-extracted basic features\n",
    "\n",
    "> Quick experiment trying to set different binary problems using pre-extracted features."
   ]
  },
  {
   "cell_type": "markdown",
   "metadata": {},
   "source": [
    "In this quick experiment we are going to utilize the pre-extracted features to perform different binary classification problems: We're going to try every possible binary problem to assess the difference in performance between them. Later we will jump into using an ensemble of binary classificators to predict all the classes."
   ]
  },
  {
   "cell_type": "code",
   "execution_count": null,
   "metadata": {},
   "outputs": [],
   "source": [
    "import numpy as np\n",
    "import pandas as pd\n",
    "import matplotlib.pyplot as plt\n",
    "import seaborn as sns\n",
    "from rich.progress import track\n",
    "\n",
    "import yasa\n",
    "import mne\n",
    "\n",
    "from sklearn.model_selection import train_test_split, cross_validate, GroupKFold\n",
    "from sklearn.ensemble import RandomForestClassifier\n",
    "from sklearn import metrics\n",
    "\n",
    "from sleepstagingidal.data import *\n",
    "from sleepstagingidal.dataa import *\n",
    "from sleepstagingidal.feature_extraction import *\n",
    "from sleepstagingidal.cross_validation import *"
   ]
  },
  {
   "cell_type": "code",
   "execution_count": null,
   "metadata": {},
   "outputs": [],
   "source": [
    "#| hide\n",
    "path_data = \"../02_Exporting_features/basic_features.csv\"\n",
    "path_info = \"../info.csv\""
   ]
  },
  {
   "cell_type": "markdown",
   "metadata": {},
   "source": [
    "## Load and filter the data\n",
    "\n",
    "The first thing we have to do is loading the features we have previously extracted:"
   ]
  },
  {
   "cell_type": "code",
   "execution_count": null,
   "metadata": {},
   "outputs": [
    {
     "data": {
      "text/html": [
       "<div>\n",
       "<style scoped>\n",
       "    .dataframe tbody tr th:only-of-type {\n",
       "        vertical-align: middle;\n",
       "    }\n",
       "\n",
       "    .dataframe tbody tr th {\n",
       "        vertical-align: top;\n",
       "    }\n",
       "\n",
       "    .dataframe thead th {\n",
       "        text-align: right;\n",
       "    }\n",
       "</style>\n",
       "<table border=\"1\" class=\"dataframe\">\n",
       "  <thead>\n",
       "    <tr style=\"text-align: right;\">\n",
       "      <th></th>\n",
       "      <th>0</th>\n",
       "      <th>1</th>\n",
       "      <th>2</th>\n",
       "      <th>3</th>\n",
       "      <th>4</th>\n",
       "      <th>5</th>\n",
       "      <th>6</th>\n",
       "      <th>7</th>\n",
       "      <th>8</th>\n",
       "      <th>9</th>\n",
       "      <th>...</th>\n",
       "      <th>76</th>\n",
       "      <th>77</th>\n",
       "      <th>78</th>\n",
       "      <th>79</th>\n",
       "      <th>80</th>\n",
       "      <th>81</th>\n",
       "      <th>82</th>\n",
       "      <th>83</th>\n",
       "      <th>Label</th>\n",
       "      <th>Patient</th>\n",
       "    </tr>\n",
       "  </thead>\n",
       "  <tbody>\n",
       "    <tr>\n",
       "      <th>0</th>\n",
       "      <td>0.495066</td>\n",
       "      <td>0.112756</td>\n",
       "      <td>0.112814</td>\n",
       "      <td>0.064382</td>\n",
       "      <td>0.165632</td>\n",
       "      <td>0.049350</td>\n",
       "      <td>0.362000</td>\n",
       "      <td>0.116360</td>\n",
       "      <td>0.171950</td>\n",
       "      <td>0.159524</td>\n",
       "      <td>...</td>\n",
       "      <td>0.064126</td>\n",
       "      <td>0.025867</td>\n",
       "      <td>0.687305</td>\n",
       "      <td>0.084597</td>\n",
       "      <td>0.083275</td>\n",
       "      <td>0.047782</td>\n",
       "      <td>0.070681</td>\n",
       "      <td>0.026361</td>\n",
       "      <td>Sleep stage W</td>\n",
       "      <td>PSG29.edf</td>\n",
       "    </tr>\n",
       "    <tr>\n",
       "      <th>1</th>\n",
       "      <td>0.465074</td>\n",
       "      <td>0.117853</td>\n",
       "      <td>0.177654</td>\n",
       "      <td>0.101286</td>\n",
       "      <td>0.104765</td>\n",
       "      <td>0.033368</td>\n",
       "      <td>0.347451</td>\n",
       "      <td>0.205411</td>\n",
       "      <td>0.208832</td>\n",
       "      <td>0.093656</td>\n",
       "      <td>...</td>\n",
       "      <td>0.050156</td>\n",
       "      <td>0.026275</td>\n",
       "      <td>0.811640</td>\n",
       "      <td>0.054457</td>\n",
       "      <td>0.050954</td>\n",
       "      <td>0.026253</td>\n",
       "      <td>0.037776</td>\n",
       "      <td>0.018920</td>\n",
       "      <td>Sleep stage W</td>\n",
       "      <td>PSG29.edf</td>\n",
       "    </tr>\n",
       "    <tr>\n",
       "      <th>2</th>\n",
       "      <td>0.493321</td>\n",
       "      <td>0.083727</td>\n",
       "      <td>0.160615</td>\n",
       "      <td>0.093394</td>\n",
       "      <td>0.127338</td>\n",
       "      <td>0.041605</td>\n",
       "      <td>0.509627</td>\n",
       "      <td>0.099740</td>\n",
       "      <td>0.174744</td>\n",
       "      <td>0.106081</td>\n",
       "      <td>...</td>\n",
       "      <td>0.057003</td>\n",
       "      <td>0.022188</td>\n",
       "      <td>0.761949</td>\n",
       "      <td>0.065250</td>\n",
       "      <td>0.071764</td>\n",
       "      <td>0.036249</td>\n",
       "      <td>0.047086</td>\n",
       "      <td>0.017702</td>\n",
       "      <td>Sleep stage W</td>\n",
       "      <td>PSG29.edf</td>\n",
       "    </tr>\n",
       "    <tr>\n",
       "      <th>3</th>\n",
       "      <td>0.496456</td>\n",
       "      <td>0.078696</td>\n",
       "      <td>0.145985</td>\n",
       "      <td>0.073315</td>\n",
       "      <td>0.168728</td>\n",
       "      <td>0.036820</td>\n",
       "      <td>0.415612</td>\n",
       "      <td>0.150171</td>\n",
       "      <td>0.162990</td>\n",
       "      <td>0.084801</td>\n",
       "      <td>...</td>\n",
       "      <td>0.102050</td>\n",
       "      <td>0.051728</td>\n",
       "      <td>0.657698</td>\n",
       "      <td>0.107005</td>\n",
       "      <td>0.083062</td>\n",
       "      <td>0.039670</td>\n",
       "      <td>0.079945</td>\n",
       "      <td>0.032621</td>\n",
       "      <td>Sleep stage W</td>\n",
       "      <td>PSG29.edf</td>\n",
       "    </tr>\n",
       "    <tr>\n",
       "      <th>4</th>\n",
       "      <td>0.499096</td>\n",
       "      <td>0.090408</td>\n",
       "      <td>0.128249</td>\n",
       "      <td>0.119394</td>\n",
       "      <td>0.126275</td>\n",
       "      <td>0.036577</td>\n",
       "      <td>0.355009</td>\n",
       "      <td>0.114010</td>\n",
       "      <td>0.227973</td>\n",
       "      <td>0.142860</td>\n",
       "      <td>...</td>\n",
       "      <td>0.064617</td>\n",
       "      <td>0.030325</td>\n",
       "      <td>0.728514</td>\n",
       "      <td>0.062010</td>\n",
       "      <td>0.082649</td>\n",
       "      <td>0.035992</td>\n",
       "      <td>0.059911</td>\n",
       "      <td>0.030924</td>\n",
       "      <td>Sleep stage W</td>\n",
       "      <td>PSG29.edf</td>\n",
       "    </tr>\n",
       "  </tbody>\n",
       "</table>\n",
       "<p>5 rows × 86 columns</p>\n",
       "</div>"
      ],
      "text/plain": [
       "          0         1         2         3         4         5         6  \\\n",
       "0  0.495066  0.112756  0.112814  0.064382  0.165632  0.049350  0.362000   \n",
       "1  0.465074  0.117853  0.177654  0.101286  0.104765  0.033368  0.347451   \n",
       "2  0.493321  0.083727  0.160615  0.093394  0.127338  0.041605  0.509627   \n",
       "3  0.496456  0.078696  0.145985  0.073315  0.168728  0.036820  0.415612   \n",
       "4  0.499096  0.090408  0.128249  0.119394  0.126275  0.036577  0.355009   \n",
       "\n",
       "          7         8         9  ...        76        77        78        79  \\\n",
       "0  0.116360  0.171950  0.159524  ...  0.064126  0.025867  0.687305  0.084597   \n",
       "1  0.205411  0.208832  0.093656  ...  0.050156  0.026275  0.811640  0.054457   \n",
       "2  0.099740  0.174744  0.106081  ...  0.057003  0.022188  0.761949  0.065250   \n",
       "3  0.150171  0.162990  0.084801  ...  0.102050  0.051728  0.657698  0.107005   \n",
       "4  0.114010  0.227973  0.142860  ...  0.064617  0.030325  0.728514  0.062010   \n",
       "\n",
       "         80        81        82        83          Label    Patient  \n",
       "0  0.083275  0.047782  0.070681  0.026361  Sleep stage W  PSG29.edf  \n",
       "1  0.050954  0.026253  0.037776  0.018920  Sleep stage W  PSG29.edf  \n",
       "2  0.071764  0.036249  0.047086  0.017702  Sleep stage W  PSG29.edf  \n",
       "3  0.083062  0.039670  0.079945  0.032621  Sleep stage W  PSG29.edf  \n",
       "4  0.082649  0.035992  0.059911  0.030924  Sleep stage W  PSG29.edf  \n",
       "\n",
       "[5 rows x 86 columns]"
      ]
     },
     "execution_count": null,
     "metadata": {},
     "output_type": "execute_result"
    }
   ],
   "source": [
    "df = pd.read_csv(path_data, index_col=0)\n",
    "df.head()"
   ]
  },
  {
   "cell_type": "markdown",
   "metadata": {},
   "source": [
    "Adding to this, we are going to filter our data to keep only the complete patients. We can do so using the `info.csv` file we have previously created:"
   ]
  },
  {
   "cell_type": "code",
   "execution_count": null,
   "metadata": {},
   "outputs": [
    {
     "data": {
      "text/html": [
       "<div>\n",
       "<style scoped>\n",
       "    .dataframe tbody tr th:only-of-type {\n",
       "        vertical-align: middle;\n",
       "    }\n",
       "\n",
       "    .dataframe tbody tr th {\n",
       "        vertical-align: top;\n",
       "    }\n",
       "\n",
       "    .dataframe thead th {\n",
       "        text-align: right;\n",
       "    }\n",
       "</style>\n",
       "<table border=\"1\" class=\"dataframe\">\n",
       "  <thead>\n",
       "    <tr style=\"text-align: right;\">\n",
       "      <th></th>\n",
       "      <th>File</th>\n",
       "      <th>DifferentStages</th>\n",
       "      <th>Complete</th>\n",
       "    </tr>\n",
       "  </thead>\n",
       "  <tbody>\n",
       "    <tr>\n",
       "      <th>0</th>\n",
       "      <td>PSG29.edf</td>\n",
       "      <td>3</td>\n",
       "      <td>False</td>\n",
       "    </tr>\n",
       "    <tr>\n",
       "      <th>1</th>\n",
       "      <td>PSG12.edf</td>\n",
       "      <td>5</td>\n",
       "      <td>True</td>\n",
       "    </tr>\n",
       "    <tr>\n",
       "      <th>2</th>\n",
       "      <td>PSG17.edf</td>\n",
       "      <td>5</td>\n",
       "      <td>True</td>\n",
       "    </tr>\n",
       "    <tr>\n",
       "      <th>3</th>\n",
       "      <td>PSG10.edf</td>\n",
       "      <td>4</td>\n",
       "      <td>False</td>\n",
       "    </tr>\n",
       "    <tr>\n",
       "      <th>4</th>\n",
       "      <td>PSG23.edf</td>\n",
       "      <td>3</td>\n",
       "      <td>False</td>\n",
       "    </tr>\n",
       "  </tbody>\n",
       "</table>\n",
       "</div>"
      ],
      "text/plain": [
       "        File  DifferentStages  Complete\n",
       "0  PSG29.edf                3     False\n",
       "1  PSG12.edf                5      True\n",
       "2  PSG17.edf                5      True\n",
       "3  PSG10.edf                4     False\n",
       "4  PSG23.edf                3     False"
      ]
     },
     "execution_count": null,
     "metadata": {},
     "output_type": "execute_result"
    }
   ],
   "source": [
    "df_info = pd.read_csv(path_info)\n",
    "df_info.head()"
   ]
  },
  {
   "cell_type": "markdown",
   "metadata": {},
   "source": [
    "If we keep only the complete patients from this dataframe and join it with the other one, we can filter out the incomplete patients to train only with the complete ones:"
   ]
  },
  {
   "cell_type": "code",
   "execution_count": null,
   "metadata": {},
   "outputs": [
    {
     "data": {
      "text/plain": [
       "30"
      ]
     },
     "execution_count": null,
     "metadata": {},
     "output_type": "execute_result"
    }
   ],
   "source": [
    "df_info_complete = df_info[df_info.Complete]\n",
    "len(df_info_complete)"
   ]
  },
  {
   "cell_type": "markdown",
   "metadata": {},
   "source": [
    "We see that we are left with 30 out of 36 patients. Next we'll join both dataframes:"
   ]
  },
  {
   "cell_type": "code",
   "execution_count": null,
   "metadata": {},
   "outputs": [
    {
     "data": {
      "text/plain": [
       "((27680, 86), (24121, 86))"
      ]
     },
     "execution_count": null,
     "metadata": {},
     "output_type": "execute_result"
    }
   ],
   "source": [
    "df_complete = df.merge(right=df_info_complete, how=\"right\", left_on=\"Patient\", right_on=\"File\")\n",
    "df_complete = df_complete.drop([\"Patient\", \"DifferentStages\", \"Complete\"], axis=1)\n",
    "df.shape, df_complete.shape"
   ]
  },
  {
   "cell_type": "code",
   "execution_count": null,
   "metadata": {},
   "outputs": [
    {
     "data": {
      "text/html": [
       "<div>\n",
       "<style scoped>\n",
       "    .dataframe tbody tr th:only-of-type {\n",
       "        vertical-align: middle;\n",
       "    }\n",
       "\n",
       "    .dataframe tbody tr th {\n",
       "        vertical-align: top;\n",
       "    }\n",
       "\n",
       "    .dataframe thead th {\n",
       "        text-align: right;\n",
       "    }\n",
       "</style>\n",
       "<table border=\"1\" class=\"dataframe\">\n",
       "  <thead>\n",
       "    <tr style=\"text-align: right;\">\n",
       "      <th></th>\n",
       "      <th>0</th>\n",
       "      <th>1</th>\n",
       "      <th>2</th>\n",
       "      <th>3</th>\n",
       "      <th>4</th>\n",
       "      <th>5</th>\n",
       "      <th>6</th>\n",
       "      <th>7</th>\n",
       "      <th>8</th>\n",
       "      <th>9</th>\n",
       "      <th>...</th>\n",
       "      <th>76</th>\n",
       "      <th>77</th>\n",
       "      <th>78</th>\n",
       "      <th>79</th>\n",
       "      <th>80</th>\n",
       "      <th>81</th>\n",
       "      <th>82</th>\n",
       "      <th>83</th>\n",
       "      <th>Label</th>\n",
       "      <th>File</th>\n",
       "    </tr>\n",
       "  </thead>\n",
       "  <tbody>\n",
       "    <tr>\n",
       "      <th>0</th>\n",
       "      <td>0.828777</td>\n",
       "      <td>0.111004</td>\n",
       "      <td>0.036347</td>\n",
       "      <td>0.013696</td>\n",
       "      <td>0.008029</td>\n",
       "      <td>0.002147</td>\n",
       "      <td>0.866095</td>\n",
       "      <td>0.077208</td>\n",
       "      <td>0.029721</td>\n",
       "      <td>0.013948</td>\n",
       "      <td>...</td>\n",
       "      <td>0.013523</td>\n",
       "      <td>0.011039</td>\n",
       "      <td>0.842687</td>\n",
       "      <td>0.082653</td>\n",
       "      <td>0.018246</td>\n",
       "      <td>0.008742</td>\n",
       "      <td>0.021826</td>\n",
       "      <td>0.025847</td>\n",
       "      <td>Sleep stage W</td>\n",
       "      <td>PSG12.edf</td>\n",
       "    </tr>\n",
       "    <tr>\n",
       "      <th>1</th>\n",
       "      <td>0.829209</td>\n",
       "      <td>0.104899</td>\n",
       "      <td>0.032051</td>\n",
       "      <td>0.022996</td>\n",
       "      <td>0.008892</td>\n",
       "      <td>0.001952</td>\n",
       "      <td>0.822251</td>\n",
       "      <td>0.105734</td>\n",
       "      <td>0.035186</td>\n",
       "      <td>0.024547</td>\n",
       "      <td>...</td>\n",
       "      <td>0.013242</td>\n",
       "      <td>0.009276</td>\n",
       "      <td>0.873665</td>\n",
       "      <td>0.057653</td>\n",
       "      <td>0.016445</td>\n",
       "      <td>0.013007</td>\n",
       "      <td>0.019579</td>\n",
       "      <td>0.019652</td>\n",
       "      <td>Sleep stage W</td>\n",
       "      <td>PSG12.edf</td>\n",
       "    </tr>\n",
       "    <tr>\n",
       "      <th>2</th>\n",
       "      <td>0.842406</td>\n",
       "      <td>0.100744</td>\n",
       "      <td>0.029417</td>\n",
       "      <td>0.019372</td>\n",
       "      <td>0.006586</td>\n",
       "      <td>0.001473</td>\n",
       "      <td>0.870060</td>\n",
       "      <td>0.081720</td>\n",
       "      <td>0.022897</td>\n",
       "      <td>0.017082</td>\n",
       "      <td>...</td>\n",
       "      <td>0.011098</td>\n",
       "      <td>0.008603</td>\n",
       "      <td>0.869873</td>\n",
       "      <td>0.061609</td>\n",
       "      <td>0.020109</td>\n",
       "      <td>0.010276</td>\n",
       "      <td>0.017389</td>\n",
       "      <td>0.020744</td>\n",
       "      <td>Sleep stage W</td>\n",
       "      <td>PSG12.edf</td>\n",
       "    </tr>\n",
       "    <tr>\n",
       "      <th>3</th>\n",
       "      <td>0.826268</td>\n",
       "      <td>0.114365</td>\n",
       "      <td>0.034281</td>\n",
       "      <td>0.016519</td>\n",
       "      <td>0.006972</td>\n",
       "      <td>0.001596</td>\n",
       "      <td>0.834174</td>\n",
       "      <td>0.086591</td>\n",
       "      <td>0.045124</td>\n",
       "      <td>0.020168</td>\n",
       "      <td>...</td>\n",
       "      <td>0.012120</td>\n",
       "      <td>0.009433</td>\n",
       "      <td>0.873901</td>\n",
       "      <td>0.055302</td>\n",
       "      <td>0.022631</td>\n",
       "      <td>0.009176</td>\n",
       "      <td>0.018615</td>\n",
       "      <td>0.020375</td>\n",
       "      <td>Sleep stage W</td>\n",
       "      <td>PSG12.edf</td>\n",
       "    </tr>\n",
       "    <tr>\n",
       "      <th>4</th>\n",
       "      <td>0.892040</td>\n",
       "      <td>0.072569</td>\n",
       "      <td>0.016537</td>\n",
       "      <td>0.013553</td>\n",
       "      <td>0.004228</td>\n",
       "      <td>0.001073</td>\n",
       "      <td>0.887429</td>\n",
       "      <td>0.069672</td>\n",
       "      <td>0.017843</td>\n",
       "      <td>0.017650</td>\n",
       "      <td>...</td>\n",
       "      <td>0.006212</td>\n",
       "      <td>0.005312</td>\n",
       "      <td>0.914073</td>\n",
       "      <td>0.043103</td>\n",
       "      <td>0.011320</td>\n",
       "      <td>0.007723</td>\n",
       "      <td>0.010389</td>\n",
       "      <td>0.013391</td>\n",
       "      <td>Sleep stage W</td>\n",
       "      <td>PSG12.edf</td>\n",
       "    </tr>\n",
       "  </tbody>\n",
       "</table>\n",
       "<p>5 rows × 86 columns</p>\n",
       "</div>"
      ],
      "text/plain": [
       "          0         1         2         3         4         5         6  \\\n",
       "0  0.828777  0.111004  0.036347  0.013696  0.008029  0.002147  0.866095   \n",
       "1  0.829209  0.104899  0.032051  0.022996  0.008892  0.001952  0.822251   \n",
       "2  0.842406  0.100744  0.029417  0.019372  0.006586  0.001473  0.870060   \n",
       "3  0.826268  0.114365  0.034281  0.016519  0.006972  0.001596  0.834174   \n",
       "4  0.892040  0.072569  0.016537  0.013553  0.004228  0.001073  0.887429   \n",
       "\n",
       "          7         8         9  ...        76        77        78        79  \\\n",
       "0  0.077208  0.029721  0.013948  ...  0.013523  0.011039  0.842687  0.082653   \n",
       "1  0.105734  0.035186  0.024547  ...  0.013242  0.009276  0.873665  0.057653   \n",
       "2  0.081720  0.022897  0.017082  ...  0.011098  0.008603  0.869873  0.061609   \n",
       "3  0.086591  0.045124  0.020168  ...  0.012120  0.009433  0.873901  0.055302   \n",
       "4  0.069672  0.017843  0.017650  ...  0.006212  0.005312  0.914073  0.043103   \n",
       "\n",
       "         80        81        82        83          Label       File  \n",
       "0  0.018246  0.008742  0.021826  0.025847  Sleep stage W  PSG12.edf  \n",
       "1  0.016445  0.013007  0.019579  0.019652  Sleep stage W  PSG12.edf  \n",
       "2  0.020109  0.010276  0.017389  0.020744  Sleep stage W  PSG12.edf  \n",
       "3  0.022631  0.009176  0.018615  0.020375  Sleep stage W  PSG12.edf  \n",
       "4  0.011320  0.007723  0.010389  0.013391  Sleep stage W  PSG12.edf  \n",
       "\n",
       "[5 rows x 86 columns]"
      ]
     },
     "execution_count": null,
     "metadata": {},
     "output_type": "execute_result"
    }
   ],
   "source": [
    "df_complete.head()"
   ]
  },
  {
   "cell_type": "markdown",
   "metadata": {},
   "source": [
    "And we see that we have removed the corresponding 3559 rows corresponding to incomplete patients."
   ]
  },
  {
   "cell_type": "markdown",
   "metadata": {},
   "source": [
    "## Defining the metrics\n",
    "\n",
    "> AUC can be a good metrics when working with binary problems.\n",
    "\n",
    "To measure the performance of our classifier, we're going to use the AUC and the accuracy, the latter just for completion. Because we want to obtain the most realistic metric possible, we are going to perform a *Patient-Fold* where we train with all the patients and then test in a completelly different one. This will give us a good estimate of the generalization performance of our pipeline.\n",
    "\n",
    "> This can be achieved using `cross_validate` in conjunction with `GroupKFold` and setting the `groups` parameter to be the `File` column in our previous dataframe.\n",
    "\n",
    "We will perform a loop to perform cross-validation on each of the five possible binary classification problems:"
   ]
  },
  {
   "cell_type": "code",
   "execution_count": null,
   "metadata": {},
   "outputs": [],
   "source": [
    "metrics_score = {\n",
    "    \"Accuracy\": \"accuracy\",\n",
    "    \"AUC\": \"roc_auc\",\n",
    "}"
   ]
  },
  {
   "cell_type": "code",
   "execution_count": null,
   "metadata": {},
   "outputs": [
    {
     "data": {
      "text/plain": [
       "array(['Sleep stage W', 'Sleep stage N1', 'Sleep stage N2',\n",
       "       'Sleep stage N3', 'Sleep stage R'], dtype=object)"
      ]
     },
     "execution_count": null,
     "metadata": {},
     "output_type": "execute_result"
    }
   ],
   "source": [
    "pos_labels = df_complete.Label.unique()\n",
    "pos_labels"
   ]
  },
  {
   "cell_type": "code",
   "execution_count": null,
   "metadata": {},
   "outputs": [
    {
     "data": {
      "application/vnd.jupyter.widget-view+json": {
       "model_id": "e3211bab0616489baff76e55ac1f57b2",
       "version_major": 2,
       "version_minor": 0
      },
      "text/plain": [
       "Output()"
      ]
     },
     "metadata": {},
     "output_type": "display_data"
    },
    {
     "data": {
      "text/html": [
       "<pre style=\"white-space:pre;overflow-x:auto;line-height:normal;font-family:Menlo,'DejaVu Sans Mono',consolas,'Courier New',monospace\"></pre>\n"
      ],
      "text/plain": []
     },
     "metadata": {},
     "output_type": "display_data"
    },
    {
     "data": {
      "text/html": [
       "<pre style=\"white-space:pre;overflow-x:auto;line-height:normal;font-family:Menlo,'DejaVu Sans Mono',consolas,'Courier New',monospace\">\n",
       "</pre>\n"
      ],
      "text/plain": [
       "\n"
      ]
     },
     "metadata": {},
     "output_type": "display_data"
    }
   ],
   "source": [
    "results = {}\n",
    "for label in track(pos_labels):\n",
    "    cvg = cross_validate(RandomForestClassifier(), \n",
    "                         X=df_complete.drop([\"Label\", \"File\"], axis=1),\n",
    "                         y=df_complete[\"Label\"]==label,\n",
    "                         scoring=metrics_score,\n",
    "                         return_train_score=True,\n",
    "                         cv=GroupKFold(n_splits=len(df_complete.File.unique())),\n",
    "                         groups=df_complete[\"File\"],\n",
    "                         n_jobs=6)\n",
    "    results[label] = cvg"
   ]
  },
  {
   "cell_type": "markdown",
   "metadata": {},
   "source": [
    "For plotting purpouses we can build a huge dataframe with all the data we obtained:"
   ]
  },
  {
   "cell_type": "code",
   "execution_count": null,
   "metadata": {},
   "outputs": [],
   "source": [
    "dfs = []\n",
    "\n",
    "for label, res in results.items():\n",
    "    df_res_i = pd.DataFrame.from_dict(res)\n",
    "    df_res_i['Binary'] = label\n",
    "    dfs.append(df_res_i)"
   ]
  },
  {
   "cell_type": "code",
   "execution_count": null,
   "metadata": {},
   "outputs": [
    {
     "name": "stdout",
     "output_type": "stream",
     "text": [
      "(150, 7)\n"
     ]
    },
    {
     "data": {
      "text/html": [
       "<div>\n",
       "<style scoped>\n",
       "    .dataframe tbody tr th:only-of-type {\n",
       "        vertical-align: middle;\n",
       "    }\n",
       "\n",
       "    .dataframe tbody tr th {\n",
       "        vertical-align: top;\n",
       "    }\n",
       "\n",
       "    .dataframe thead th {\n",
       "        text-align: right;\n",
       "    }\n",
       "</style>\n",
       "<table border=\"1\" class=\"dataframe\">\n",
       "  <thead>\n",
       "    <tr style=\"text-align: right;\">\n",
       "      <th></th>\n",
       "      <th>fit_time</th>\n",
       "      <th>score_time</th>\n",
       "      <th>test_Accuracy</th>\n",
       "      <th>train_Accuracy</th>\n",
       "      <th>test_AUC</th>\n",
       "      <th>train_AUC</th>\n",
       "      <th>Binary</th>\n",
       "    </tr>\n",
       "  </thead>\n",
       "  <tbody>\n",
       "    <tr>\n",
       "      <th>0</th>\n",
       "      <td>38.173372</td>\n",
       "      <td>0.074652</td>\n",
       "      <td>0.732424</td>\n",
       "      <td>1.0</td>\n",
       "      <td>0.907228</td>\n",
       "      <td>1.0</td>\n",
       "      <td>Sleep stage W</td>\n",
       "    </tr>\n",
       "    <tr>\n",
       "      <th>1</th>\n",
       "      <td>36.354859</td>\n",
       "      <td>0.068716</td>\n",
       "      <td>0.663736</td>\n",
       "      <td>1.0</td>\n",
       "      <td>0.752617</td>\n",
       "      <td>1.0</td>\n",
       "      <td>Sleep stage W</td>\n",
       "    </tr>\n",
       "    <tr>\n",
       "      <th>2</th>\n",
       "      <td>35.902291</td>\n",
       "      <td>0.092104</td>\n",
       "      <td>0.828798</td>\n",
       "      <td>1.0</td>\n",
       "      <td>0.891056</td>\n",
       "      <td>1.0</td>\n",
       "      <td>Sleep stage W</td>\n",
       "    </tr>\n",
       "    <tr>\n",
       "      <th>3</th>\n",
       "      <td>36.459545</td>\n",
       "      <td>0.093932</td>\n",
       "      <td>0.952000</td>\n",
       "      <td>1.0</td>\n",
       "      <td>0.968489</td>\n",
       "      <td>1.0</td>\n",
       "      <td>Sleep stage W</td>\n",
       "    </tr>\n",
       "    <tr>\n",
       "      <th>4</th>\n",
       "      <td>35.683652</td>\n",
       "      <td>0.098985</td>\n",
       "      <td>0.866354</td>\n",
       "      <td>1.0</td>\n",
       "      <td>0.915691</td>\n",
       "      <td>1.0</td>\n",
       "      <td>Sleep stage W</td>\n",
       "    </tr>\n",
       "  </tbody>\n",
       "</table>\n",
       "</div>"
      ],
      "text/plain": [
       "    fit_time  score_time  test_Accuracy  train_Accuracy  test_AUC  train_AUC  \\\n",
       "0  38.173372    0.074652       0.732424             1.0  0.907228        1.0   \n",
       "1  36.354859    0.068716       0.663736             1.0  0.752617        1.0   \n",
       "2  35.902291    0.092104       0.828798             1.0  0.891056        1.0   \n",
       "3  36.459545    0.093932       0.952000             1.0  0.968489        1.0   \n",
       "4  35.683652    0.098985       0.866354             1.0  0.915691        1.0   \n",
       "\n",
       "          Binary  \n",
       "0  Sleep stage W  \n",
       "1  Sleep stage W  \n",
       "2  Sleep stage W  \n",
       "3  Sleep stage W  \n",
       "4  Sleep stage W  "
      ]
     },
     "execution_count": null,
     "metadata": {},
     "output_type": "execute_result"
    }
   ],
   "source": [
    "dfs_total = pd.concat(dfs)\n",
    "print(dfs_total.shape)\n",
    "dfs_total.head()"
   ]
  },
  {
   "cell_type": "code",
   "execution_count": null,
   "metadata": {},
   "outputs": [
    {
     "data": {
      "image/png": "[encoded data removed]",
      "text/plain": [
       "<Figure size 640x480 with 1 Axes>"
      ]
     },
     "metadata": {},
     "output_type": "display_data"
    }
   ],
   "source": [
    "dfs_total.drop([\"fit_time\", \"score_time\", \"train_Accuracy\", \"train_AUC\"], axis=1)\\\n",
    "         .melt(id_vars='Binary')\\\n",
    "         .pipe((sns.boxplot, \"data\"), x=\"variable\", y=\"value\", hue=\"Binary\")\n",
    "plt.xlabel(\"Metric name\")\n",
    "plt.ylabel(\"Metric value\")\n",
    "plt.title(\"Patient-Fold test results for different binary problems\")\n",
    "plt.show()"
   ]
  },
  {
   "cell_type": "code",
   "execution_count": null,
   "metadata": {},
   "outputs": [
    {
     "data": {
      "image/png": "[encoded data removed]",
      "text/plain": [
       "<Figure size 640x480 with 1 Axes>"
      ]
     },
     "metadata": {},
     "output_type": "display_data"
    }
   ],
   "source": [
    "dfs_total.drop([\"fit_time\", \"score_time\", \"test_Accuracy\", \"test_AUC\"], axis=1)\\\n",
    "         .melt(id_vars='Binary')\\\n",
    "         .pipe((sns.boxplot, \"data\"), x=\"variable\", y=\"value\", hue=\"Binary\")\n",
    "plt.xlabel(\"Metric name\")\n",
    "plt.ylabel(\"Metric value\")\n",
    "plt.title(\"Patient-Fold train results for different binary problems\")\n",
    "plt.show()"
   ]
  }
 ],
 "metadata": {
  "kernelspec": {
   "display_name": "Python 3.8.0 ('sleepstaging')",
   "language": "python",
   "name": "python3"
  }
 },
 "nbformat": 4,
 "nbformat_minor": 2
}
