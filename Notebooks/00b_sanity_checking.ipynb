{
 "cells": [
  {
   "cell_type": "code",
   "execution_count": null,
   "metadata": {},
   "outputs": [],
   "source": [
    "#| default_exp data"
   ]
  },
  {
   "cell_type": "markdown",
   "metadata": {},
   "source": [
    "# Sanity check\n",
    "\n",
    "> Before jumping into training models with the data, it's a good practice to check the health of the data we are going to be working with."
   ]
  },
  {
   "cell_type": "markdown",
   "metadata": {},
   "source": [
    "## Distribution of labels per patient\n",
    "\n",
    "As we saw while we were loading the data, there might be some recordings that don't have the full set of labels we are interested in. To account for this, we are going to obtain the label distribution per recording to be able to differentiate between fully labelled recordings and non-fully labelled recordings. \n",
    "\n",
    "When going further in our analysis, it can be important to filter out the non-fully labelled recordings, at least, until we have a full working pipeline we are happy with."
   ]
  },
  {
   "cell_type": "code",
   "execution_count": null,
   "metadata": {},
   "outputs": [],
   "source": [
    "#| hide\n",
    "%load_ext autoreload\n",
    "%autoreload 2"
   ]
  },
  {
   "cell_type": "code",
   "execution_count": null,
   "metadata": {},
   "outputs": [],
   "source": [
    "#| hide\n",
    "import warnings\n",
    "warnings.filterwarnings(\"ignore\", category=RuntimeWarning) "
   ]
  },
  {
   "cell_type": "code",
   "execution_count": null,
   "metadata": {},
   "outputs": [],
   "source": [
    "#| hide\n",
    "from nbdev.showdoc import *\n",
    "import matplotlib.pyplot as plt"
   ]
  },
  {
   "cell_type": "code",
   "execution_count": null,
   "metadata": {},
   "outputs": [],
   "source": [
    "#| hide\n",
    "path_data = \"/media/2tbraid/antonia/PSG/\""
   ]
  },
  {
   "cell_type": "code",
   "execution_count": null,
   "metadata": {},
   "outputs": [],
   "source": [
    "#| export\n",
    "import os\n",
    "from glob import glob\n",
    "from collections import Counter\n",
    "from typing import List, Dict\n",
    "\n",
    "from rich.progress import track\n",
    "import numpy as np\n",
    "import pandas as pd\n",
    "import mne\n",
    "import yasa\n",
    "\n",
    "from sleepstagingidal.data import *"
   ]
  },
  {
   "cell_type": "markdown",
   "metadata": {},
   "source": [
    "The steps we have to follow are:\n",
    "\n",
    "- Load the raw `.edf` file.\n",
    "- Extract transform the `Annotations` into `Events` and filter them using regex."
   ]
  },
  {
   "cell_type": "code",
   "execution_count": null,
   "metadata": {},
   "outputs": [],
   "source": [
    "path_files = glob(os.path.join(path_data, \"*.edf\"))"
   ]
  },
  {
   "cell_type": "code",
   "execution_count": null,
   "metadata": {},
   "outputs": [
    {
     "name": "stdout",
     "output_type": "stream",
     "text": [
      "Extracting EDF parameters from /media/2tbraid/antonia/PSG/PSG29.edf...\n",
      "EDF file detected\n",
      "Setting channel info structure...\n",
      "Creating raw.info structure...\n"
     ]
    }
   ],
   "source": [
    "raw = mne.io.read_raw_edf(path_files[0], preload=False)"
   ]
  },
  {
   "cell_type": "code",
   "execution_count": null,
   "metadata": {},
   "outputs": [
    {
     "name": "stdout",
     "output_type": "stream",
     "text": [
      "Used Annotations descriptions: ['Sleep stage N1', 'Sleep stage N2', 'Sleep stage W']\n"
     ]
    }
   ],
   "source": [
    "events, events_id = mne.events_from_annotations(raw, regexp='Sleep stage [A-Z]\\d*')"
   ]
  },
  {
   "cell_type": "markdown",
   "metadata": {},
   "source": [
    "When obtaining events from annotations, the annotations are encoded in sparse notation. To ease our analysis we can define a couple of functions to turn them back easily into human readable format again:"
   ]
  },
  {
   "cell_type": "code",
   "execution_count": null,
   "metadata": {},
   "outputs": [],
   "source": [
    "#| exporti\n",
    "\n",
    "def swap_dict(dictionary: Dict # dictionary to be swapped,\n",
    "              ) -> Dict: # Swapped dictionary\n",
    "    \"\"\"Turns the keys into values and the values into keys.\"\"\"\n",
    "    return {value:key for key, value in dictionary.items()}"
   ]
  },
  {
   "cell_type": "code",
   "execution_count": null,
   "metadata": {},
   "outputs": [
    {
     "data": {
      "text/markdown": [
       "---\n",
       "\n",
       "### swap_dict\n",
       "\n",
       ">      swap_dict (dictionary:Dict)\n",
       "\n",
       "Turns the keys into values and the values into keys.\n",
       "\n",
       "|    | **Type** | **Details** |\n",
       "| -- | -------- | ----------- |\n",
       "| dictionary | typing.Dict | dictionary to be swapped, |\n",
       "| **Returns** | **typing.Dict** | **Swapped dictionary** |"
      ],
      "text/plain": [
       "---\n",
       "\n",
       "### swap_dict\n",
       "\n",
       ">      swap_dict (dictionary:Dict)\n",
       "\n",
       "Turns the keys into values and the values into keys.\n",
       "\n",
       "|    | **Type** | **Details** |\n",
       "| -- | -------- | ----------- |\n",
       "| dictionary | typing.Dict | dictionary to be swapped, |\n",
       "| **Returns** | **typing.Dict** | **Swapped dictionary** |"
      ]
     },
     "execution_count": null,
     "metadata": {},
     "output_type": "execute_result"
    }
   ],
   "source": [
    "show_doc(swap_dict)"
   ]
  },
  {
   "cell_type": "code",
   "execution_count": null,
   "metadata": {},
   "outputs": [],
   "source": [
    "#| export\n",
    "def map_events(events, # events array obtained from `mne.events_from_annotations()`.\n",
    "               mapping: Dict, # dictionary mapping from encoded annotations to readable.\n",
    "               ) -> List[str]: # mapped events in human readable format.\n",
    "    \"\"\"Turns an encoded representation of the annotations into a human readable one using the corresponding mapping dictionary\"\"\"\n",
    "    mapped_events = [mapping[event] for event in events[:,-1]]\n",
    "    return mapped_events"
   ]
  },
  {
   "cell_type": "code",
   "execution_count": null,
   "metadata": {},
   "outputs": [],
   "source": [
    "assert len(events[:,-1]) == len(map_events(events, swap_dict(events_id)))"
   ]
  },
  {
   "cell_type": "markdown",
   "metadata": {},
   "source": [
    "To wrap it up, let's define a function that takes as input a path to a file and outputs its event annotations in human readable form:"
   ]
  },
  {
   "cell_type": "code",
   "execution_count": null,
   "metadata": {},
   "outputs": [],
   "source": [
    "#| export\n",
    "def get_sleep_stages(path: str, # Path to an `.edf` file.\n",
    "                     verbose: bool = False, # Amount of information shown when loading the file.\n",
    "                     ) -> List[str]: # annotations in human readable form.\n",
    "    \"\"\"Loads an `.edf` file and extracts the sleep stage labels in human readable form.\"\"\"\n",
    "    raw = mne.io.read_raw_edf(path, preload=False, verbose=verbose)\n",
    "    events, events_id = mne.events_from_annotations(raw, regexp='Sleep stage [A-Z]\\d*', verbose=verbose)\n",
    "    return map_events(events, swap_dict(events_id))"
   ]
  },
  {
   "cell_type": "code",
   "execution_count": null,
   "metadata": {},
   "outputs": [],
   "source": [
    "sleep_stages = get_sleep_stages(path_files[0])\n",
    "assert len(sleep_stages) == len(events[:,-1])"
   ]
  },
  {
   "cell_type": "markdown",
   "metadata": {},
   "source": [
    "Once we have all the interest labels from a file extracted, we can use a `Counter` to obtain its distribution:"
   ]
  },
  {
   "cell_type": "code",
   "execution_count": null,
   "metadata": {},
   "outputs": [
    {
     "data": {
      "text/plain": [
       "Counter({'Sleep stage W': 367, 'Sleep stage N1': 29, 'Sleep stage N2': 323})"
      ]
     },
     "execution_count": null,
     "metadata": {},
     "output_type": "execute_result"
    }
   ],
   "source": [
    "Counter(sleep_stages)"
   ]
  },
  {
   "cell_type": "markdown",
   "metadata": {},
   "source": [
    "## Amount of sleep stages per patient\n",
    "\n",
    "The main thing we want to check is the amount of different labels that are present in each file: We expect each file to have 5 sleep stages (W, N1, N2, N3, R). This will be an easy thing to obtain using the functions we have previously defined:"
   ]
  },
  {
   "cell_type": "code",
   "execution_count": null,
   "metadata": {},
   "outputs": [
    {
     "data": {
      "text/plain": [
       "'PSG29.edf'"
      ]
     },
     "execution_count": null,
     "metadata": {},
     "output_type": "execute_result"
    }
   ],
   "source": [
    "path_files[0].split(\"/\")[-1]"
   ]
  },
  {
   "cell_type": "code",
   "execution_count": null,
   "metadata": {},
   "outputs": [
    {
     "data": {
      "application/vnd.jupyter.widget-view+json": {
       "model_id": "221074bc9eea42328880930f2a169f80",
       "version_major": 2,
       "version_minor": 0
      },
      "text/plain": [
       "Output()"
      ]
     },
     "metadata": {},
     "output_type": "display_data"
    },
    {
     "data": {
      "text/html": [
       "<pre style=\"white-space:pre;overflow-x:auto;line-height:normal;font-family:Menlo,'DejaVu Sans Mono',consolas,'Courier New',monospace\"></pre>\n"
      ],
      "text/plain": []
     },
     "metadata": {},
     "output_type": "display_data"
    },
    {
     "data": {
      "text/html": [
       "<pre style=\"white-space:pre;overflow-x:auto;line-height:normal;font-family:Menlo,'DejaVu Sans Mono',consolas,'Courier New',monospace\">\n",
       "</pre>\n"
      ],
      "text/plain": [
       "\n"
      ]
     },
     "metadata": {},
     "output_type": "display_data"
    }
   ],
   "source": [
    "#| output false\n",
    "all_sleep_stages = {}\n",
    "for path_file in track(path_files):\n",
    "    file = path_file.split(\"/\")[-1]\n",
    "    sleep_stages = get_sleep_stages(path_file)\n",
    "    all_sleep_stages[file] = sleep_stages"
   ]
  },
  {
   "cell_type": "markdown",
   "metadata": {},
   "source": [
    "Now that we have all the stages per recording, we can obtain:\n",
    "\n",
    "- Quantity of stages per recording.\n",
    "- Number of different stages per recording."
   ]
  },
  {
   "cell_type": "code",
   "execution_count": null,
   "metadata": {},
   "outputs": [],
   "source": [
    "all_quantity = {file:len(stages) for file, stages in all_sleep_stages.items()}"
   ]
  },
  {
   "cell_type": "code",
   "execution_count": null,
   "metadata": {},
   "outputs": [
    {
     "data": {
      "image/png": "[encoded data removed]",
      "text/plain": [
       "<Figure size 640x480 with 1 Axes>"
      ]
     },
     "metadata": {},
     "output_type": "display_data"
    }
   ],
   "source": [
    "plt.figure()\n",
    "plt.bar(all_quantity.keys(), all_quantity.values())\n",
    "plt.xticks(rotation=90)\n",
    "plt.title(\"Amount of sleep stages per recording\")\n",
    "plt.xlabel(\"Recording\")\n",
    "plt.ylabel(\"Amouint of stages labelled\")\n",
    "plt.show()"
   ]
  },
  {
   "cell_type": "code",
   "execution_count": null,
   "metadata": {},
   "outputs": [],
   "source": [
    "all_different = {file:len(set(stages)) for file, stages in all_sleep_stages.items()}"
   ]
  },
  {
   "cell_type": "code",
   "execution_count": null,
   "metadata": {},
   "outputs": [
    {
     "data": {
      "image/png": "[encoded data removed]",
      "text/plain": [
       "<Figure size 640x480 with 1 Axes>"
      ]
     },
     "metadata": {},
     "output_type": "display_data"
    }
   ],
   "source": [
    "plt.figure()\n",
    "plt.bar(all_different.keys(), all_different.values())\n",
    "plt.xticks(rotation=90)\n",
    "plt.title(\"# of different sleep stages per recording\")\n",
    "plt.xlabel(\"Recording\")\n",
    "plt.ylabel(\"# of different sleep stages\")\n",
    "plt.show()"
   ]
  },
  {
   "cell_type": "markdown",
   "metadata": {},
   "source": [
    "## Summing up\n",
    "\n",
    "Thanks to this easy and quick exploration we have been able to recognize that the file `PSG22.edf` might have a problem because no stages are shown, and that files `PSG29.edf`, `PSG10.edf`, `PSG23.edf`, `PSG32.edf` and `PSG28.edf` might be problematic because they are missing some of the labels we are interested in. We can end this by creating a, for example, `.csv` file indicating the files that are completed and the ones that are not, so that we can choose which to load depending on what analysis we want to perform on our data."
   ]
  },
  {
   "cell_type": "code",
   "execution_count": null,
   "metadata": {},
   "outputs": [
    {
     "data": {
      "text/html": [
       "<div>\n",
       "<style scoped>\n",
       "    .dataframe tbody tr th:only-of-type {\n",
       "        vertical-align: middle;\n",
       "    }\n",
       "\n",
       "    .dataframe tbody tr th {\n",
       "        vertical-align: top;\n",
       "    }\n",
       "\n",
       "    .dataframe thead th {\n",
       "        text-align: right;\n",
       "    }\n",
       "</style>\n",
       "<table border=\"1\" class=\"dataframe\">\n",
       "  <thead>\n",
       "    <tr style=\"text-align: right;\">\n",
       "      <th></th>\n",
       "      <th>DifferentStages</th>\n",
       "      <th>Complete</th>\n",
       "    </tr>\n",
       "    <tr>\n",
       "      <th>File</th>\n",
       "      <th></th>\n",
       "      <th></th>\n",
       "    </tr>\n",
       "  </thead>\n",
       "  <tbody>\n",
       "    <tr>\n",
       "      <th>PSG29.edf</th>\n",
       "      <td>3</td>\n",
       "      <td>False</td>\n",
       "    </tr>\n",
       "    <tr>\n",
       "      <th>PSG12.edf</th>\n",
       "      <td>5</td>\n",
       "      <td>True</td>\n",
       "    </tr>\n",
       "    <tr>\n",
       "      <th>PSG17.edf</th>\n",
       "      <td>5</td>\n",
       "      <td>True</td>\n",
       "    </tr>\n",
       "    <tr>\n",
       "      <th>PSG10.edf</th>\n",
       "      <td>4</td>\n",
       "      <td>False</td>\n",
       "    </tr>\n",
       "    <tr>\n",
       "      <th>PSG23.edf</th>\n",
       "      <td>3</td>\n",
       "      <td>False</td>\n",
       "    </tr>\n",
       "  </tbody>\n",
       "</table>\n",
       "</div>"
      ],
      "text/plain": [
       "           DifferentStages  Complete\n",
       "File                                \n",
       "PSG29.edf                3     False\n",
       "PSG12.edf                5      True\n",
       "PSG17.edf                5      True\n",
       "PSG10.edf                4     False\n",
       "PSG23.edf                3     False"
      ]
     },
     "execution_count": null,
     "metadata": {},
     "output_type": "execute_result"
    }
   ],
   "source": [
    "df = pd.DataFrame.from_dict(all_different, orient='index', columns=['DifferentStages'])\n",
    "df.index.set_names(\"File\", inplace=True)\n",
    "df[\"Complete\"] = df.DifferentStages == 5\n",
    "df.head()"
   ]
  },
  {
   "cell_type": "code",
   "execution_count": null,
   "metadata": {},
   "outputs": [],
   "source": [
    "df.to_csv(\"info.csv\")"
   ]
  }
 ],
 "metadata": {
  "kernelspec": {
   "display_name": "Python 3.8.0 ('sleepstaging')",
   "language": "python",
   "name": "python3"
  }
 },
 "nbformat": 4,
 "nbformat_minor": 2
}
