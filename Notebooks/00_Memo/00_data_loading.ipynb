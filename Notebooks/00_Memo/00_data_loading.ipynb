{
 "cells": [
  {
   "cell_type": "markdown",
   "metadata": {},
   "source": [
    "# Data loading\n",
    "\n",
    "> Always make sure you can load all your data."
   ]
  },
  {
   "cell_type": "markdown",
   "metadata": {},
   "source": [
    "Stablishing a data-loading pipeline is always a good starting point for starting every project. In this case in particular, we have to be conscious because each `.edf` file we are going to work with is about 1 Gb, so performing lazy loading might become crucial for the project."
   ]
  },
  {
   "cell_type": "code",
   "execution_count": null,
   "metadata": {},
   "outputs": [],
   "source": []
  }
 ],
 "metadata": {
  "kernelspec": {
   "display_name": "Python 3.8.0 ('sleepstaging')",
   "language": "python",
   "name": "python3"
  },
  "language_info": {
   "name": "python",
   "version": "3.8.0"
  },
  "orig_nbformat": 4,
  "vscode": {
   "interpreter": {
    "hash": "b309a2501b13f45365e4cace7c2354b674b0953cc39e84ede671dae126831ae0"
   }
  }
 },
 "nbformat": 4,
 "nbformat_minor": 2
}
